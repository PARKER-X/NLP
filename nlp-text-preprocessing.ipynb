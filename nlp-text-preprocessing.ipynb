{
 "cells": [
  {
   "cell_type": "code",
   "execution_count": 1,
   "id": "c960ac1d",
   "metadata": {
    "_cell_guid": "b1076dfc-b9ad-4769-8c92-a6c4dae69d19",
    "_uuid": "8f2839f25d086af736a60e9eeb907d3b93b6e0e5",
    "execution": {
     "iopub.execute_input": "2022-03-30T12:58:03.462189Z",
     "iopub.status.busy": "2022-03-30T12:58:03.461207Z",
     "iopub.status.idle": "2022-03-30T12:58:03.477798Z",
     "shell.execute_reply": "2022-03-30T12:58:03.478602Z",
     "shell.execute_reply.started": "2022-03-30T12:15:02.771994Z"
    },
    "papermill": {
     "duration": 0.046541,
     "end_time": "2022-03-30T12:58:03.479043",
     "exception": false,
     "start_time": "2022-03-30T12:58:03.432502",
     "status": "completed"
    },
    "tags": []
   },
   "outputs": [
    {
     "name": "stdout",
     "output_type": "stream",
     "text": [
      "/kaggle/input/imdb-dataset-of-50k-movie-reviews/IMDB Dataset.csv\n"
     ]
    }
   ],
   "source": [
    "# This Python 3 environment comes with many helpful analytics libraries installed\n",
    "# It is defined by the kaggle/python Docker image: https://github.com/kaggle/docker-python\n",
    "# For example, here's several helpful packages to load\n",
    "\n",
    "import numpy as np # linear algebra\n",
    "import pandas as pd # data processing, CSV file I/O (e.g. pd.read_csv)\n",
    "\n",
    "# Input data files are available in the read-only \"../input/\" directory\n",
    "# For example, running this (by clicking run or pressing Shift+Enter) will list all files under the input directory\n",
    "\n",
    "import os\n",
    "for dirname, _, filenames in os.walk('/kaggle/input'):\n",
    "    for filename in filenames:\n",
    "        print(os.path.join(dirname, filename))\n",
    "\n",
    "# You can write up to 20GB to the current directory (/kaggle/working/) that gets preserved as output when you create a version using \"Save & Run All\" \n",
    "# You can also write temporary files to /kaggle/temp/, but they won't be saved outside of the current session"
   ]
  },
  {
   "cell_type": "code",
   "execution_count": 2,
   "id": "36d901a4",
   "metadata": {
    "execution": {
     "iopub.execute_input": "2022-03-30T12:58:03.522368Z",
     "iopub.status.busy": "2022-03-30T12:58:03.521621Z",
     "iopub.status.idle": "2022-03-30T12:58:04.912938Z",
     "shell.execute_reply": "2022-03-30T12:58:04.912361Z",
     "shell.execute_reply.started": "2022-03-30T12:15:02.785789Z"
    },
    "papermill": {
     "duration": 1.41445,
     "end_time": "2022-03-30T12:58:04.913095",
     "exception": false,
     "start_time": "2022-03-30T12:58:03.498645",
     "status": "completed"
    },
    "tags": []
   },
   "outputs": [
    {
     "data": {
      "text/html": [
       "<div>\n",
       "<style scoped>\n",
       "    .dataframe tbody tr th:only-of-type {\n",
       "        vertical-align: middle;\n",
       "    }\n",
       "\n",
       "    .dataframe tbody tr th {\n",
       "        vertical-align: top;\n",
       "    }\n",
       "\n",
       "    .dataframe thead th {\n",
       "        text-align: right;\n",
       "    }\n",
       "</style>\n",
       "<table border=\"1\" class=\"dataframe\">\n",
       "  <thead>\n",
       "    <tr style=\"text-align: right;\">\n",
       "      <th></th>\n",
       "      <th>review</th>\n",
       "      <th>sentiment</th>\n",
       "    </tr>\n",
       "  </thead>\n",
       "  <tbody>\n",
       "    <tr>\n",
       "      <th>0</th>\n",
       "      <td>One of the other reviewers has mentioned that ...</td>\n",
       "      <td>positive</td>\n",
       "    </tr>\n",
       "    <tr>\n",
       "      <th>1</th>\n",
       "      <td>A wonderful little production. &lt;br /&gt;&lt;br /&gt;The...</td>\n",
       "      <td>positive</td>\n",
       "    </tr>\n",
       "    <tr>\n",
       "      <th>2</th>\n",
       "      <td>I thought this was a wonderful way to spend ti...</td>\n",
       "      <td>positive</td>\n",
       "    </tr>\n",
       "    <tr>\n",
       "      <th>3</th>\n",
       "      <td>Basically there's a family where a little boy ...</td>\n",
       "      <td>negative</td>\n",
       "    </tr>\n",
       "    <tr>\n",
       "      <th>4</th>\n",
       "      <td>Petter Mattei's \"Love in the Time of Money\" is...</td>\n",
       "      <td>positive</td>\n",
       "    </tr>\n",
       "  </tbody>\n",
       "</table>\n",
       "</div>"
      ],
      "text/plain": [
       "                                              review sentiment\n",
       "0  One of the other reviewers has mentioned that ...  positive\n",
       "1  A wonderful little production. <br /><br />The...  positive\n",
       "2  I thought this was a wonderful way to spend ti...  positive\n",
       "3  Basically there's a family where a little boy ...  negative\n",
       "4  Petter Mattei's \"Love in the Time of Money\" is...  positive"
      ]
     },
     "execution_count": 2,
     "metadata": {},
     "output_type": "execute_result"
    }
   ],
   "source": [
    "df = pd.read_csv(\"../input/imdb-dataset-of-50k-movie-reviews/IMDB Dataset.csv\")\n",
    "df.head()"
   ]
  },
  {
   "cell_type": "markdown",
   "id": "3d53c1be",
   "metadata": {
    "papermill": {
     "duration": 0.017755,
     "end_time": "2022-03-30T12:58:04.949115",
     "exception": false,
     "start_time": "2022-03-30T12:58:04.931360",
     "status": "completed"
    },
    "tags": []
   },
   "source": [
    "# Text Preprocessing"
   ]
  },
  {
   "cell_type": "code",
   "execution_count": 3,
   "id": "a2974b17",
   "metadata": {
    "execution": {
     "iopub.execute_input": "2022-03-30T12:58:04.993526Z",
     "iopub.status.busy": "2022-03-30T12:58:04.992747Z",
     "iopub.status.idle": "2022-03-30T12:58:05.359500Z",
     "shell.execute_reply": "2022-03-30T12:58:05.360034Z",
     "shell.execute_reply.started": "2022-03-30T12:18:32.615720Z"
    },
    "papermill": {
     "duration": 0.392123,
     "end_time": "2022-03-30T12:58:05.360216",
     "exception": false,
     "start_time": "2022-03-30T12:58:04.968093",
     "status": "completed"
    },
    "tags": []
   },
   "outputs": [
    {
     "data": {
      "image/png": "[encoded data removed]",
      "text/plain": [
       "<Figure size 432x288 with 1 Axes>"
      ]
     },
     "metadata": {
      "needs_background": "light"
     },
     "output_type": "display_data"
    }
   ],
   "source": [
    "data = ['Lowercasing', 'Tokenization','Remove Html Tag','Remove urls','Remove puncation','Spelling Correction','Stopwords','Lemmitization','Bag of words','Tf-idf','Count vectorizer']\n",
    "import matplotlib.pyplot as plt\n",
    "from wordcloud import WordCloud\n",
    "text = \" \".join(data)\n",
    "word_cloud = WordCloud(collocations = False, background_color = 'white').generate(text)\n",
    "plt.imshow(word_cloud, interpolation='bilinear')\n",
    "plt.axis(\"off\")\n",
    "plt.show()\n"
   ]
  },
  {
   "cell_type": "markdown",
   "id": "c8e0681f",
   "metadata": {
    "papermill": {
     "duration": 0.019665,
     "end_time": "2022-03-30T12:58:05.399795",
     "exception": false,
     "start_time": "2022-03-30T12:58:05.380130",
     "status": "completed"
    },
    "tags": []
   },
   "source": [
    "# Lowercasing"
   ]
  },
  {
   "cell_type": "code",
   "execution_count": 4,
   "id": "caebd644",
   "metadata": {
    "execution": {
     "iopub.execute_input": "2022-03-30T12:58:05.444612Z",
     "iopub.status.busy": "2022-03-30T12:58:05.442643Z",
     "iopub.status.idle": "2022-03-30T12:58:05.611141Z",
     "shell.execute_reply": "2022-03-30T12:58:05.610379Z",
     "shell.execute_reply.started": "2022-03-30T12:20:00.700948Z"
    },
    "papermill": {
     "duration": 0.191357,
     "end_time": "2022-03-30T12:58:05.611301",
     "exception": false,
     "start_time": "2022-03-30T12:58:05.419944",
     "status": "completed"
    },
    "tags": []
   },
   "outputs": [
    {
     "data": {
      "text/plain": [
       "0    one of the other reviewers has mentioned that ...\n",
       "1    a wonderful little production. <br /><br />the...\n",
       "2    i thought this was a wonderful way to spend ti...\n",
       "3    basically there's a family where a little boy ...\n",
       "4    petter mattei's \"love in the time of money\" is...\n",
       "Name: review, dtype: object"
      ]
     },
     "execution_count": 4,
     "metadata": {},
     "output_type": "execute_result"
    }
   ],
   "source": [
    "df1 = df.copy()\n",
    "df1['review'].str.lower().head()"
   ]
  },
  {
   "cell_type": "markdown",
   "id": "de743fe1",
   "metadata": {
    "papermill": {
     "duration": 0.020313,
     "end_time": "2022-03-30T12:58:05.652276",
     "exception": false,
     "start_time": "2022-03-30T12:58:05.631963",
     "status": "completed"
    },
    "tags": []
   },
   "source": [
    "# Remove Html Tags"
   ]
  },
  {
   "cell_type": "code",
   "execution_count": 5,
   "id": "bdb80cf6",
   "metadata": {
    "execution": {
     "iopub.execute_input": "2022-03-30T12:58:05.699846Z",
     "iopub.status.busy": "2022-03-30T12:58:05.699129Z",
     "iopub.status.idle": "2022-03-30T12:58:05.700449Z",
     "shell.execute_reply": "2022-03-30T12:58:05.701066Z",
     "shell.execute_reply.started": "2022-03-30T12:30:44.605252Z"
    },
    "papermill": {
     "duration": 0.028151,
     "end_time": "2022-03-30T12:58:05.701265",
     "exception": false,
     "start_time": "2022-03-30T12:58:05.673114",
     "status": "completed"
    },
    "tags": []
   },
   "outputs": [],
   "source": [
    "import re\n",
    "def remove_html_tags(text):\n",
    "    pattern = re.compile(r'<.*?>')\n",
    "    return pattern.sub(r'',text)"
   ]
  },
  {
   "cell_type": "code",
   "execution_count": 6,
   "id": "f78693c8",
   "metadata": {
    "execution": {
     "iopub.execute_input": "2022-03-30T12:58:05.746958Z",
     "iopub.status.busy": "2022-03-30T12:58:05.746327Z",
     "iopub.status.idle": "2022-03-30T12:58:05.993958Z",
     "shell.execute_reply": "2022-03-30T12:58:05.993270Z",
     "shell.execute_reply.started": "2022-03-30T12:30:46.935494Z"
    },
    "papermill": {
     "duration": 0.270662,
     "end_time": "2022-03-30T12:58:05.994104",
     "exception": false,
     "start_time": "2022-03-30T12:58:05.723442",
     "status": "completed"
    },
    "tags": []
   },
   "outputs": [
    {
     "data": {
      "text/plain": [
       "0    One of the other reviewers has mentioned that ...\n",
       "1    A wonderful little production. The filming tec...\n",
       "2    I thought this was a wonderful way to spend ti...\n",
       "3    Basically there's a family where a little boy ...\n",
       "4    Petter Mattei's \"Love in the Time of Money\" is...\n",
       "Name: review, dtype: object"
      ]
     },
     "execution_count": 6,
     "metadata": {},
     "output_type": "execute_result"
    }
   ],
   "source": [
    "df1['review'].apply(remove_html_tags).head()"
   ]
  },
  {
   "cell_type": "markdown",
   "id": "5dccd5dc",
   "metadata": {
    "papermill": {
     "duration": 0.021202,
     "end_time": "2022-03-30T12:58:06.036627",
     "exception": false,
     "start_time": "2022-03-30T12:58:06.015425",
     "status": "completed"
    },
    "tags": []
   },
   "source": [
    "# Remove urls"
   ]
  },
  {
   "cell_type": "code",
   "execution_count": 7,
   "id": "743302f9",
   "metadata": {
    "execution": {
     "iopub.execute_input": "2022-03-30T12:58:06.084433Z",
     "iopub.status.busy": "2022-03-30T12:58:06.083753Z",
     "iopub.status.idle": "2022-03-30T12:58:06.086664Z",
     "shell.execute_reply": "2022-03-30T12:58:06.086122Z",
     "shell.execute_reply.started": "2022-03-30T12:35:58.066288Z"
    },
    "papermill": {
     "duration": 0.029063,
     "end_time": "2022-03-30T12:58:06.086818",
     "exception": false,
     "start_time": "2022-03-30T12:58:06.057755",
     "status": "completed"
    },
    "tags": []
   },
   "outputs": [],
   "source": [
    "text1  = 'Hola this is my website https://www.youtube.com/watch?v=I63RkFdgjos&list=RDMMJM7EPuZuRV8&index=8 '\n",
    "text2 =  'Hola follow this https://www.google/com'\n",
    "\n",
    "def remove_urls(text):\n",
    "    url = re.sub(r\"http\\S+\", \"\", text)\n",
    "    return url"
   ]
  },
  {
   "cell_type": "code",
   "execution_count": 8,
   "id": "6577df24",
   "metadata": {
    "execution": {
     "iopub.execute_input": "2022-03-30T12:58:06.133165Z",
     "iopub.status.busy": "2022-03-30T12:58:06.132413Z",
     "iopub.status.idle": "2022-03-30T12:58:06.137555Z",
     "shell.execute_reply": "2022-03-30T12:58:06.138244Z",
     "shell.execute_reply.started": "2022-03-30T12:36:10.911253Z"
    },
    "papermill": {
     "duration": 0.030172,
     "end_time": "2022-03-30T12:58:06.138430",
     "exception": false,
     "start_time": "2022-03-30T12:58:06.108258",
     "status": "completed"
    },
    "tags": []
   },
   "outputs": [
    {
     "data": {
      "text/plain": [
       "('Hola this is my website  ', 'Hola follow this ')"
      ]
     },
     "execution_count": 8,
     "metadata": {},
     "output_type": "execute_result"
    }
   ],
   "source": [
    "remove_urls(text1), remove_urls(text2)"
   ]
  },
  {
   "cell_type": "markdown",
   "id": "856bbc79",
   "metadata": {
    "papermill": {
     "duration": 0.020975,
     "end_time": "2022-03-30T12:58:06.180752",
     "exception": false,
     "start_time": "2022-03-30T12:58:06.159777",
     "status": "completed"
    },
    "tags": []
   },
   "source": [
    "# Remove Punctuation"
   ]
  },
  {
   "cell_type": "code",
   "execution_count": 9,
   "id": "4b3e72e3",
   "metadata": {
    "execution": {
     "iopub.execute_input": "2022-03-30T12:58:06.230803Z",
     "iopub.status.busy": "2022-03-30T12:58:06.230133Z",
     "iopub.status.idle": "2022-03-30T12:58:06.232896Z",
     "shell.execute_reply": "2022-03-30T12:58:06.232394Z",
     "shell.execute_reply.started": "2022-03-30T12:40:47.757263Z"
    },
    "papermill": {
     "duration": 0.029369,
     "end_time": "2022-03-30T12:58:06.233039",
     "exception": false,
     "start_time": "2022-03-30T12:58:06.203670",
     "status": "completed"
    },
    "tags": []
   },
   "outputs": [],
   "source": [
    "def remove_punc(text):\n",
    "    return  re.sub(r'[^\\w\\s]', '', text)\n"
   ]
  },
  {
   "cell_type": "code",
   "execution_count": 10,
   "id": "405204c9",
   "metadata": {
    "execution": {
     "iopub.execute_input": "2022-03-30T12:58:06.280967Z",
     "iopub.status.busy": "2022-03-30T12:58:06.280255Z",
     "iopub.status.idle": "2022-03-30T12:58:09.114416Z",
     "shell.execute_reply": "2022-03-30T12:58:09.113806Z",
     "shell.execute_reply.started": "2022-03-30T12:40:49.896841Z"
    },
    "papermill": {
     "duration": 2.860283,
     "end_time": "2022-03-30T12:58:09.114570",
     "exception": false,
     "start_time": "2022-03-30T12:58:06.254287",
     "status": "completed"
    },
    "tags": []
   },
   "outputs": [
    {
     "data": {
      "text/plain": [
       "0        One of the other reviewers has mentioned that ...\n",
       "1        A wonderful little production br br The filmin...\n",
       "2        I thought this was a wonderful way to spend ti...\n",
       "3        Basically theres a family where a little boy J...\n",
       "4        Petter Matteis Love in the Time of Money is a ...\n",
       "                               ...                        \n",
       "49995    I thought this movie did a down right good job...\n",
       "49996    Bad plot bad dialogue bad acting idiotic direc...\n",
       "49997    I am a Catholic taught in parochial elementary...\n",
       "49998    Im going to have to disagree with the previous...\n",
       "49999    No one expects the Star Trek movies to be high...\n",
       "Name: review, Length: 50000, dtype: object"
      ]
     },
     "execution_count": 10,
     "metadata": {},
     "output_type": "execute_result"
    }
   ],
   "source": [
    "df1['review'].apply(remove_punc)"
   ]
  },
  {
   "cell_type": "markdown",
   "id": "a213a1fb",
   "metadata": {
    "papermill": {
     "duration": 0.021511,
     "end_time": "2022-03-30T12:58:09.157745",
     "exception": false,
     "start_time": "2022-03-30T12:58:09.136234",
     "status": "completed"
    },
    "tags": []
   },
   "source": [
    "# Spelling Correction"
   ]
  },
  {
   "cell_type": "code",
   "execution_count": 11,
   "id": "e5dfecd3",
   "metadata": {
    "execution": {
     "iopub.execute_input": "2022-03-30T12:58:09.204870Z",
     "iopub.status.busy": "2022-03-30T12:58:09.204215Z",
     "iopub.status.idle": "2022-03-30T12:58:11.758838Z",
     "shell.execute_reply": "2022-03-30T12:58:11.758289Z",
     "shell.execute_reply.started": "2022-03-30T12:44:07.604612Z"
    },
    "papermill": {
     "duration": 2.579393,
     "end_time": "2022-03-30T12:58:11.759012",
     "exception": false,
     "start_time": "2022-03-30T12:58:09.179619",
     "status": "completed"
    },
    "tags": []
   },
   "outputs": [
    {
     "data": {
      "text/plain": [
       "'His is incorrect word I m textbook do net worried about wrong words i am here'"
      ]
     },
     "execution_count": 11,
     "metadata": {},
     "output_type": "execute_result"
    }
   ],
   "source": [
    "incorrect_word = 'This is inccorect woed I m textblob do net worrie aboot wrongg wordd i am heree'\n",
    "from textblob import TextBlob\n",
    "txtblb = TextBlob(incorrect_word)\n",
    "txtblb.correct().string"
   ]
  },
  {
   "cell_type": "markdown",
   "id": "dec3ed04",
   "metadata": {
    "papermill": {
     "duration": 0.021788,
     "end_time": "2022-03-30T12:58:11.802847",
     "exception": false,
     "start_time": "2022-03-30T12:58:11.781059",
     "status": "completed"
    },
    "tags": []
   },
   "source": [
    "# "
   ]
  },
  {
   "cell_type": "code",
   "execution_count": null,
   "id": "98229277",
   "metadata": {
    "papermill": {
     "duration": 0.021635,
     "end_time": "2022-03-30T12:58:11.846690",
     "exception": false,
     "start_time": "2022-03-30T12:58:11.825055",
     "status": "completed"
    },
    "tags": []
   },
   "outputs": [],
   "source": []
  }
 ],
 "metadata": {
  "kernelspec": {
   "display_name": "Python 3",
   "language": "python",
   "name": "python3"
  },
  "language_info": {
   "codemirror_mode": {
    "name": "ipython",
    "version": 3
   },
   "file_extension": ".py",
   "mimetype": "text/x-python",
   "name": "python",
   "nbconvert_exporter": "python",
   "pygments_lexer": "ipython3",
   "version": "3.7.12"
  },
  "papermill": {
   "default_parameters": {},
   "duration": 18.962862,
   "end_time": "2022-03-30T12:58:12.681346",
   "environment_variables": {},
   "exception": null,
   "input_path": "__notebook__.ipynb",
   "output_path": "__notebook__.ipynb",
   "parameters": {},
   "start_time": "2022-03-30T12:57:53.718484",
   "version": "2.3.3"
  }
 },
 "nbformat": 4,
 "nbformat_minor": 5
}
