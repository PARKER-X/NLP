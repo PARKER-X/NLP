{
 "cells": [
  {
   "cell_type": "code",
   "execution_count": 1,
   "id": "0f4e7c1c",
   "metadata": {
    "_cell_guid": "b1076dfc-b9ad-4769-8c92-a6c4dae69d19",
    "_uuid": "8f2839f25d086af736a60e9eeb907d3b93b6e0e5",
    "execution": {
     "iopub.execute_input": "2022-03-26T05:30:52.486216Z",
     "iopub.status.busy": "2022-03-26T05:30:52.484683Z",
     "iopub.status.idle": "2022-03-26T05:30:52.501834Z",
     "shell.execute_reply": "2022-03-26T05:30:52.501269Z",
     "shell.execute_reply.started": "2022-03-26T05:23:07.959112Z"
    },
    "papermill": {
     "duration": 0.040936,
     "end_time": "2022-03-26T05:30:52.501990",
     "exception": false,
     "start_time": "2022-03-26T05:30:52.461054",
     "status": "completed"
    },
    "tags": []
   },
   "outputs": [
    {
     "name": "stdout",
     "output_type": "stream",
     "text": [
      "/kaggle/input/frenchenglish/_about.txt\n",
      "/kaggle/input/frenchenglish/fra.txt\n"
     ]
    }
   ],
   "source": [
    "# This Python 3 environment comes with many helpful analytics libraries installed\n",
    "# It is defined by the kaggle/python Docker image: https://github.com/kaggle/docker-python\n",
    "# For example, here's several helpful packages to load\n",
    "\n",
    "import numpy as np # linear algebra\n",
    "import pandas as pd # data processing, CSV file I/O (e.g. pd.read_csv)\n",
    "\n",
    "# Input data files are available in the read-only \"../input/\" directory\n",
    "# For example, running this (by clicking run or pressing Shift+Enter) will list all files under the input directory\n",
    "\n",
    "import os\n",
    "for dirname, _, filenames in os.walk('/kaggle/input'):\n",
    "    for filename in filenames:\n",
    "        print(os.path.join(dirname, filename))\n",
    "\n",
    "# You can write up to 20GB to the current directory (/kaggle/working/) that gets preserved as output when you create a version using \"Save & Run All\" \n",
    "# You can also write temporary files to /kaggle/temp/, but they won't be saved outside of the current session"
   ]
  },
  {
   "cell_type": "code",
   "execution_count": 2,
   "id": "654ad2b7",
   "metadata": {
    "execution": {
     "iopub.execute_input": "2022-03-26T05:30:52.548486Z",
     "iopub.status.busy": "2022-03-26T05:30:52.547908Z",
     "iopub.status.idle": "2022-03-26T05:30:52.550719Z",
     "shell.execute_reply": "2022-03-26T05:30:52.550335Z",
     "shell.execute_reply.started": "2022-03-26T05:23:08.017645Z"
    },
    "papermill": {
     "duration": 0.024747,
     "end_time": "2022-03-26T05:30:52.550850",
     "exception": false,
     "start_time": "2022-03-26T05:30:52.526103",
     "status": "completed"
    },
    "tags": []
   },
   "outputs": [],
   "source": [
    "data_path = \"../input/frenchenglish/fra.txt\"\n"
   ]
  },
  {
   "cell_type": "markdown",
   "id": "35b30dfe",
   "metadata": {
    "papermill": {
     "duration": 0.019039,
     "end_time": "2022-03-26T05:30:52.588741",
     "exception": false,
     "start_time": "2022-03-26T05:30:52.569702",
     "status": "completed"
    },
    "tags": []
   },
   "source": [
    "# Configuration"
   ]
  },
  {
   "cell_type": "code",
   "execution_count": 3,
   "id": "92e37377",
   "metadata": {
    "execution": {
     "iopub.execute_input": "2022-03-26T05:30:52.630857Z",
     "iopub.status.busy": "2022-03-26T05:30:52.630239Z",
     "iopub.status.idle": "2022-03-26T05:30:52.632953Z",
     "shell.execute_reply": "2022-03-26T05:30:52.632500Z",
     "shell.execute_reply.started": "2022-03-26T05:23:08.024049Z"
    },
    "papermill": {
     "duration": 0.024975,
     "end_time": "2022-03-26T05:30:52.633073",
     "exception": false,
     "start_time": "2022-03-26T05:30:52.608098",
     "status": "completed"
    },
    "tags": []
   },
   "outputs": [],
   "source": [
    "batch_size = 64\n",
    "epochs = 100\n",
    "latent_dim = 256\n",
    "num_samples = 10000"
   ]
  },
  {
   "cell_type": "markdown",
   "id": "50328951",
   "metadata": {
    "papermill": {
     "duration": 0.019169,
     "end_time": "2022-03-26T05:30:52.671255",
     "exception": false,
     "start_time": "2022-03-26T05:30:52.652086",
     "status": "completed"
    },
    "tags": []
   },
   "source": [
    "1. **Batch size** is a term used in machine learning and refers to the number of training examples utilized in one iteration.\n",
    "2. **epochs** Number of epochs to train for.\n",
    "3. **latent_dim** The latent space is simply a representation of compressed data in which similar data points are closer together in space.\n",
    "4. **num_samples** Number of samples to train on."
   ]
  },
  {
   "cell_type": "markdown",
   "id": "84734cf0",
   "metadata": {
    "papermill": {
     "duration": 0.018884,
     "end_time": "2022-03-26T05:30:52.709029",
     "exception": false,
     "start_time": "2022-03-26T05:30:52.690145",
     "status": "completed"
    },
    "tags": []
   },
   "source": [
    "# Prepare the data"
   ]
  },
  {
   "cell_type": "code",
   "execution_count": 4,
   "id": "83d37593",
   "metadata": {
    "execution": {
     "iopub.execute_input": "2022-03-26T05:30:52.751512Z",
     "iopub.status.busy": "2022-03-26T05:30:52.750666Z",
     "iopub.status.idle": "2022-03-26T05:30:52.752983Z",
     "shell.execute_reply": "2022-03-26T05:30:52.752415Z",
     "shell.execute_reply.started": "2022-03-26T05:23:08.037570Z"
    },
    "papermill": {
     "duration": 0.024816,
     "end_time": "2022-03-26T05:30:52.753093",
     "exception": false,
     "start_time": "2022-03-26T05:30:52.728277",
     "status": "completed"
    },
    "tags": []
   },
   "outputs": [],
   "source": [
    "input_texts = []\n",
    "target_texts = []\n",
    "input_characters = set()\n",
    "target_characters = set()"
   ]
  },
  {
   "cell_type": "markdown",
   "id": "482fbd52",
   "metadata": {
    "papermill": {
     "duration": 0.018621,
     "end_time": "2022-03-26T05:30:52.790604",
     "exception": false,
     "start_time": "2022-03-26T05:30:52.771983",
     "status": "completed"
    },
    "tags": []
   },
   "source": [
    "1. Make the empty list for input texts and output text\n",
    "2. make dictionary for input and output characters\n",
    "3. The set() function creates a set object. The items in a set list are unordered, so it will appear in random order"
   ]
  },
  {
   "cell_type": "code",
   "execution_count": 5,
   "id": "6c099111",
   "metadata": {
    "execution": {
     "iopub.execute_input": "2022-03-26T05:30:52.833413Z",
     "iopub.status.busy": "2022-03-26T05:30:52.832746Z",
     "iopub.status.idle": "2022-03-26T05:30:53.220202Z",
     "shell.execute_reply": "2022-03-26T05:30:53.220881Z",
     "shell.execute_reply.started": "2022-03-26T05:23:08.087261Z"
    },
    "papermill": {
     "duration": 0.411211,
     "end_time": "2022-03-26T05:30:53.221111",
     "exception": false,
     "start_time": "2022-03-26T05:30:52.809900",
     "status": "completed"
    },
    "tags": []
   },
   "outputs": [
    {
     "name": "stdout",
     "output_type": "stream",
     "text": [
      "Go.\tVa !\tCC-BY 2.0 (France) Attribution: tatoeba.org #2877272 (CM) & #1158250 (Wittydev)\n"
     ]
    }
   ],
   "source": [
    "with open(data_path, \"r\", encoding=\"utf-8\") as f:\n",
    "    lines = f.read().split(\"\\n\")\n",
    "print(lines[0])"
   ]
  },
  {
   "cell_type": "code",
   "execution_count": 6,
   "id": "baf21654",
   "metadata": {
    "execution": {
     "iopub.execute_input": "2022-03-26T05:30:53.271970Z",
     "iopub.status.busy": "2022-03-26T05:30:53.271139Z",
     "iopub.status.idle": "2022-03-26T05:30:53.275225Z",
     "shell.execute_reply": "2022-03-26T05:30:53.275888Z",
     "shell.execute_reply.started": "2022-03-26T05:23:08.477007Z"
    },
    "papermill": {
     "duration": 0.031238,
     "end_time": "2022-03-26T05:30:53.276071",
     "exception": false,
     "start_time": "2022-03-26T05:30:53.244833",
     "status": "completed"
    },
    "tags": []
   },
   "outputs": [
    {
     "name": "stdout",
     "output_type": "stream",
     "text": [
      "['Go.\\tVa !\\tCC-BY 2.0 (France) Attribution: tatoeba.org #2877272 (CM) & #1158250 (Wittydev)', 'Hi.\\tSalut !\\tCC-BY 2.0 (France) Attribution: tatoeba.org #538123 (CM) & #509819 (Aiji)', 'Hi.\\tSalut.\\tCC-BY 2.0 (France) Attribution: tatoeba.org #538123 (CM) & #4320462 (gillux)', 'Run!\\tCours\\u202f!\\tCC-BY 2.0 (France) Attribution: tatoeba.org #906328 (papabear) & #906331 (sacredceltic)', 'Run!\\tCourez\\u202f!\\tCC-BY 2.0 (France) Attribution: tatoeba.org #906328 (papabear) & #906332 (sacredceltic)']\n"
     ]
    }
   ],
   "source": [
    "print(lines[:5])"
   ]
  },
  {
   "cell_type": "code",
   "execution_count": 7,
   "id": "15c0abc1",
   "metadata": {
    "execution": {
     "iopub.execute_input": "2022-03-26T05:30:53.330139Z",
     "iopub.status.busy": "2022-03-26T05:30:53.329403Z",
     "iopub.status.idle": "2022-03-26T05:30:53.332753Z",
     "shell.execute_reply": "2022-03-26T05:30:53.333258Z",
     "shell.execute_reply.started": "2022-03-26T05:23:08.485597Z"
    },
    "papermill": {
     "duration": 0.032958,
     "end_time": "2022-03-26T05:30:53.333426",
     "exception": false,
     "start_time": "2022-03-26T05:30:53.300468",
     "status": "completed"
    },
    "tags": []
   },
   "outputs": [
    {
     "data": {
      "text/plain": [
       "177211"
      ]
     },
     "execution_count": 7,
     "metadata": {},
     "output_type": "execute_result"
    }
   ],
   "source": [
    "len(lines)"
   ]
  },
  {
   "cell_type": "markdown",
   "id": "34112055",
   "metadata": {
    "papermill": {
     "duration": 0.022564,
     "end_time": "2022-03-26T05:30:53.379001",
     "exception": false,
     "start_time": "2022-03-26T05:30:53.356437",
     "status": "completed"
    },
    "tags": []
   },
   "source": [
    "1. read the file and split the lines "
   ]
  },
  {
   "cell_type": "code",
   "execution_count": 8,
   "id": "96c1b1b0",
   "metadata": {
    "execution": {
     "iopub.execute_input": "2022-03-26T05:30:53.454866Z",
     "iopub.status.busy": "2022-03-26T05:30:53.444519Z",
     "iopub.status.idle": "2022-03-26T05:30:53.470460Z",
     "shell.execute_reply": "2022-03-26T05:30:53.469721Z",
     "shell.execute_reply.started": "2022-03-26T05:23:08.498710Z"
    },
    "papermill": {
     "duration": 0.069404,
     "end_time": "2022-03-26T05:30:53.470574",
     "exception": false,
     "start_time": "2022-03-26T05:30:53.401170",
     "status": "completed"
    },
    "tags": []
   },
   "outputs": [
    {
     "name": "stdout",
     "output_type": "stream",
     "text": [
      "CC-BY 2.0 (France) Attribution: tatoeba.org #2244950 (CK) & #7011253 (Aiji)\n",
      "Are you injured?\n",
      "\tEs-tu blessée ?\n",
      "\n"
     ]
    }
   ],
   "source": [
    "for line in lines[: min(num_samples, len(lines) - 1)]:\n",
    "    input_text, target_text, _ = line.split(\"\\t\")\n",
    "    target_text = \"\\t\" + target_text + \"\\n\"\n",
    "    input_texts.append(input_text)\n",
    "    target_texts.append(target_text)\n",
    "    for char in input_text:\n",
    "        if char not in input_characters:\n",
    "            input_characters.add(char)\n",
    "    for char in target_text:\n",
    "        if char not in target_characters:\n",
    "            target_characters.add(char)\n",
    "\n",
    "print(_)\n",
    "print(input_text)\n",
    "print(target_text)\n"
   ]
  },
  {
   "cell_type": "code",
   "execution_count": 9,
   "id": "8ed97f34",
   "metadata": {
    "execution": {
     "iopub.execute_input": "2022-03-26T05:30:53.515658Z",
     "iopub.status.busy": "2022-03-26T05:30:53.515018Z",
     "iopub.status.idle": "2022-03-26T05:30:53.517726Z",
     "shell.execute_reply": "2022-03-26T05:30:53.518196Z",
     "shell.execute_reply.started": "2022-03-26T05:23:08.546048Z"
    },
    "papermill": {
     "duration": 0.027329,
     "end_time": "2022-03-26T05:30:53.518316",
     "exception": false,
     "start_time": "2022-03-26T05:30:53.490987",
     "status": "completed"
    },
    "tags": []
   },
   "outputs": [
    {
     "data": {
      "text/plain": [
       "108"
      ]
     },
     "execution_count": 9,
     "metadata": {},
     "output_type": "execute_result"
    }
   ],
   "source": [
    "len(line)"
   ]
  },
  {
   "cell_type": "markdown",
   "id": "c01d275b",
   "metadata": {
    "papermill": {
     "duration": 0.020428,
     "end_time": "2022-03-26T05:30:53.559306",
     "exception": false,
     "start_time": "2022-03-26T05:30:53.538878",
     "status": "completed"
    },
    "tags": []
   },
   "source": [
    "1. use for loop to extract input and output text\n",
    "2. The underscore is typically used to denote an \"unused\" variable. because it is not used \n",
    "3. Now add the character in character set"
   ]
  },
  {
   "cell_type": "code",
   "execution_count": 10,
   "id": "bc4f421f",
   "metadata": {
    "execution": {
     "iopub.execute_input": "2022-03-26T05:30:53.612834Z",
     "iopub.status.busy": "2022-03-26T05:30:53.604065Z",
     "iopub.status.idle": "2022-03-26T05:30:53.621648Z",
     "shell.execute_reply": "2022-03-26T05:30:53.622456Z",
     "shell.execute_reply.started": "2022-03-26T05:23:08.558620Z"
    },
    "papermill": {
     "duration": 0.042748,
     "end_time": "2022-03-26T05:30:53.622638",
     "exception": false,
     "start_time": "2022-03-26T05:30:53.579890",
     "status": "completed"
    },
    "tags": []
   },
   "outputs": [
    {
     "name": "stdout",
     "output_type": "stream",
     "text": [
      "Number of samples: 10000\n",
      "Number of unique input tokens: 71\n",
      "Number of unique output tokens: 92\n",
      "Max sequence length for inputs: 16\n",
      "Max sequence length for outputs: 59\n"
     ]
    }
   ],
   "source": [
    "input_characters = sorted(list(input_characters))\n",
    "target_characters = sorted(list(target_characters))\n",
    "num_encoder_tokens = len(input_characters)\n",
    "num_decoder_tokens = len(target_characters)\n",
    "max_encoder_seq_length = max([len(txt) for txt in input_texts])\n",
    "max_decoder_seq_length = max([len(txt) for txt in target_texts])\n",
    "\n",
    "print(\"Number of samples:\", len(input_texts))\n",
    "print(\"Number of unique input tokens:\", num_encoder_tokens)\n",
    "print(\"Number of unique output tokens:\", num_decoder_tokens)\n",
    "print(\"Max sequence length for inputs:\", max_encoder_seq_length)\n",
    "print(\"Max sequence length for outputs:\", max_decoder_seq_length)"
   ]
  },
  {
   "cell_type": "code",
   "execution_count": 11,
   "id": "7e1faab9",
   "metadata": {
    "execution": {
     "iopub.execute_input": "2022-03-26T05:30:53.693017Z",
     "iopub.status.busy": "2022-03-26T05:30:53.692430Z",
     "iopub.status.idle": "2022-03-26T05:30:53.695158Z",
     "shell.execute_reply": "2022-03-26T05:30:53.695573Z",
     "shell.execute_reply.started": "2022-03-26T05:23:08.574149Z"
    },
    "papermill": {
     "duration": 0.041712,
     "end_time": "2022-03-26T05:30:53.695693",
     "exception": false,
     "start_time": "2022-03-26T05:30:53.653981",
     "status": "completed"
    },
    "tags": []
   },
   "outputs": [
    {
     "name": "stdout",
     "output_type": "stream",
     "text": [
      "{' ': 0, '!': 1, '$': 2, '%': 3, '&': 4, \"'\": 5, ',': 6, '-': 7, '.': 8, '0': 9, '1': 10, '2': 11, '3': 12, '5': 13, '6': 14, '7': 15, '8': 16, '9': 17, ':': 18, '?': 19, 'A': 20, 'B': 21, 'C': 22, 'D': 23, 'E': 24, 'F': 25, 'G': 26, 'H': 27, 'I': 28, 'J': 29, 'K': 30, 'L': 31, 'M': 32, 'N': 33, 'O': 34, 'P': 35, 'Q': 36, 'R': 37, 'S': 38, 'T': 39, 'U': 40, 'V': 41, 'W': 42, 'Y': 43, 'a': 44, 'b': 45, 'c': 46, 'd': 47, 'e': 48, 'f': 49, 'g': 50, 'h': 51, 'i': 52, 'j': 53, 'k': 54, 'l': 55, 'm': 56, 'n': 57, 'o': 58, 'p': 59, 'q': 60, 'r': 61, 's': 62, 't': 63, 'u': 64, 'v': 65, 'w': 66, 'x': 67, 'y': 68, 'z': 69, 'é': 70}\n",
      "{'\\t': 0, '\\n': 1, ' ': 2, '!': 3, '%': 4, '&': 5, \"'\": 6, '(': 7, ')': 8, ',': 9, '-': 10, '.': 11, '0': 12, '1': 13, '2': 14, '3': 15, '5': 16, '8': 17, '9': 18, ':': 19, '?': 20, 'A': 21, 'B': 22, 'C': 23, 'D': 24, 'E': 25, 'F': 26, 'G': 27, 'H': 28, 'I': 29, 'J': 30, 'K': 31, 'L': 32, 'M': 33, 'N': 34, 'O': 35, 'P': 36, 'Q': 37, 'R': 38, 'S': 39, 'T': 40, 'U': 41, 'V': 42, 'Y': 43, 'a': 44, 'b': 45, 'c': 46, 'd': 47, 'e': 48, 'f': 49, 'g': 50, 'h': 51, 'i': 52, 'j': 53, 'k': 54, 'l': 55, 'm': 56, 'n': 57, 'o': 58, 'p': 59, 'q': 60, 'r': 61, 's': 62, 't': 63, 'u': 64, 'v': 65, 'x': 66, 'y': 67, 'z': 68, '\\xa0': 69, '«': 70, '»': 71, 'À': 72, 'Ç': 73, 'É': 74, 'Ê': 75, 'à': 76, 'â': 77, 'ç': 78, 'è': 79, 'é': 80, 'ê': 81, 'ë': 82, 'î': 83, 'ï': 84, 'ô': 85, 'ù': 86, 'û': 87, 'œ': 88, '\\u2009': 89, '’': 90, '\\u202f': 91}\n"
     ]
    }
   ],
   "source": [
    "input_token_index = dict([(char, i) for i, char in enumerate(input_characters)])\n",
    "target_token_index = dict([(char, i) for i, char in enumerate(target_characters)])\n",
    "print(input_token_index)\n",
    "print(target_token_index)"
   ]
  },
  {
   "cell_type": "code",
   "execution_count": 12,
   "id": "a4d94fd1",
   "metadata": {
    "execution": {
     "iopub.execute_input": "2022-03-26T05:30:53.743971Z",
     "iopub.status.busy": "2022-03-26T05:30:53.743260Z",
     "iopub.status.idle": "2022-03-26T05:30:53.760691Z",
     "shell.execute_reply": "2022-03-26T05:30:53.761099Z",
     "shell.execute_reply.started": "2022-03-26T05:23:08.586798Z"
    },
    "papermill": {
     "duration": 0.04419,
     "end_time": "2022-03-26T05:30:53.761227",
     "exception": false,
     "start_time": "2022-03-26T05:30:53.717037",
     "status": "completed"
    },
    "tags": []
   },
   "outputs": [
    {
     "name": "stdout",
     "output_type": "stream",
     "text": [
      "[[[0. 0. 0. ... 0. 0. 0.]\n",
      "  [0. 0. 0. ... 0. 0. 0.]\n",
      "  [0. 0. 0. ... 0. 0. 0.]\n",
      "  ...\n",
      "  [0. 0. 0. ... 0. 0. 0.]\n",
      "  [0. 0. 0. ... 0. 0. 0.]\n",
      "  [0. 0. 0. ... 0. 0. 0.]]\n",
      "\n",
      " [[0. 0. 0. ... 0. 0. 0.]\n",
      "  [0. 0. 0. ... 0. 0. 0.]\n",
      "  [0. 0. 0. ... 0. 0. 0.]\n",
      "  ...\n",
      "  [0. 0. 0. ... 0. 0. 0.]\n",
      "  [0. 0. 0. ... 0. 0. 0.]\n",
      "  [0. 0. 0. ... 0. 0. 0.]]\n",
      "\n",
      " [[0. 0. 0. ... 0. 0. 0.]\n",
      "  [0. 0. 0. ... 0. 0. 0.]\n",
      "  [0. 0. 0. ... 0. 0. 0.]\n",
      "  ...\n",
      "  [0. 0. 0. ... 0. 0. 0.]\n",
      "  [0. 0. 0. ... 0. 0. 0.]\n",
      "  [0. 0. 0. ... 0. 0. 0.]]\n",
      "\n",
      " ...\n",
      "\n",
      " [[0. 0. 0. ... 0. 0. 0.]\n",
      "  [0. 0. 0. ... 0. 0. 0.]\n",
      "  [0. 0. 0. ... 0. 0. 0.]\n",
      "  ...\n",
      "  [0. 0. 0. ... 0. 0. 0.]\n",
      "  [0. 0. 0. ... 0. 0. 0.]\n",
      "  [0. 0. 0. ... 0. 0. 0.]]\n",
      "\n",
      " [[0. 0. 0. ... 0. 0. 0.]\n",
      "  [0. 0. 0. ... 0. 0. 0.]\n",
      "  [0. 0. 0. ... 0. 0. 0.]\n",
      "  ...\n",
      "  [0. 0. 0. ... 0. 0. 0.]\n",
      "  [0. 0. 0. ... 0. 0. 0.]\n",
      "  [0. 0. 0. ... 0. 0. 0.]]\n",
      "\n",
      " [[0. 0. 0. ... 0. 0. 0.]\n",
      "  [0. 0. 0. ... 0. 0. 0.]\n",
      "  [0. 0. 0. ... 0. 0. 0.]\n",
      "  ...\n",
      "  [0. 0. 0. ... 0. 0. 0.]\n",
      "  [0. 0. 0. ... 0. 0. 0.]\n",
      "  [0. 0. 0. ... 0. 0. 0.]]]\n",
      "[[[0. 0. 0. ... 0. 0. 0.]\n",
      "  [0. 0. 0. ... 0. 0. 0.]\n",
      "  [0. 0. 0. ... 0. 0. 0.]\n",
      "  ...\n",
      "  [0. 0. 0. ... 0. 0. 0.]\n",
      "  [0. 0. 0. ... 0. 0. 0.]\n",
      "  [0. 0. 0. ... 0. 0. 0.]]\n",
      "\n",
      " [[0. 0. 0. ... 0. 0. 0.]\n",
      "  [0. 0. 0. ... 0. 0. 0.]\n",
      "  [0. 0. 0. ... 0. 0. 0.]\n",
      "  ...\n",
      "  [0. 0. 0. ... 0. 0. 0.]\n",
      "  [0. 0. 0. ... 0. 0. 0.]\n",
      "  [0. 0. 0. ... 0. 0. 0.]]\n",
      "\n",
      " [[0. 0. 0. ... 0. 0. 0.]\n",
      "  [0. 0. 0. ... 0. 0. 0.]\n",
      "  [0. 0. 0. ... 0. 0. 0.]\n",
      "  ...\n",
      "  [0. 0. 0. ... 0. 0. 0.]\n",
      "  [0. 0. 0. ... 0. 0. 0.]\n",
      "  [0. 0. 0. ... 0. 0. 0.]]\n",
      "\n",
      " ...\n",
      "\n",
      " [[0. 0. 0. ... 0. 0. 0.]\n",
      "  [0. 0. 0. ... 0. 0. 0.]\n",
      "  [0. 0. 0. ... 0. 0. 0.]\n",
      "  ...\n",
      "  [0. 0. 0. ... 0. 0. 0.]\n",
      "  [0. 0. 0. ... 0. 0. 0.]\n",
      "  [0. 0. 0. ... 0. 0. 0.]]\n",
      "\n",
      " [[0. 0. 0. ... 0. 0. 0.]\n",
      "  [0. 0. 0. ... 0. 0. 0.]\n",
      "  [0. 0. 0. ... 0. 0. 0.]\n",
      "  ...\n",
      "  [0. 0. 0. ... 0. 0. 0.]\n",
      "  [0. 0. 0. ... 0. 0. 0.]\n",
      "  [0. 0. 0. ... 0. 0. 0.]]\n",
      "\n",
      " [[0. 0. 0. ... 0. 0. 0.]\n",
      "  [0. 0. 0. ... 0. 0. 0.]\n",
      "  [0. 0. 0. ... 0. 0. 0.]\n",
      "  ...\n",
      "  [0. 0. 0. ... 0. 0. 0.]\n",
      "  [0. 0. 0. ... 0. 0. 0.]\n",
      "  [0. 0. 0. ... 0. 0. 0.]]]\n",
      "[[[0. 0. 0. ... 0. 0. 0.]\n",
      "  [0. 0. 0. ... 0. 0. 0.]\n",
      "  [0. 0. 0. ... 0. 0. 0.]\n",
      "  ...\n",
      "  [0. 0. 0. ... 0. 0. 0.]\n",
      "  [0. 0. 0. ... 0. 0. 0.]\n",
      "  [0. 0. 0. ... 0. 0. 0.]]\n",
      "\n",
      " [[0. 0. 0. ... 0. 0. 0.]\n",
      "  [0. 0. 0. ... 0. 0. 0.]\n",
      "  [0. 0. 0. ... 0. 0. 0.]\n",
      "  ...\n",
      "  [0. 0. 0. ... 0. 0. 0.]\n",
      "  [0. 0. 0. ... 0. 0. 0.]\n",
      "  [0. 0. 0. ... 0. 0. 0.]]\n",
      "\n",
      " [[0. 0. 0. ... 0. 0. 0.]\n",
      "  [0. 0. 0. ... 0. 0. 0.]\n",
      "  [0. 0. 0. ... 0. 0. 0.]\n",
      "  ...\n",
      "  [0. 0. 0. ... 0. 0. 0.]\n",
      "  [0. 0. 0. ... 0. 0. 0.]\n",
      "  [0. 0. 0. ... 0. 0. 0.]]\n",
      "\n",
      " ...\n",
      "\n",
      " [[0. 0. 0. ... 0. 0. 0.]\n",
      "  [0. 0. 0. ... 0. 0. 0.]\n",
      "  [0. 0. 0. ... 0. 0. 0.]\n",
      "  ...\n",
      "  [0. 0. 0. ... 0. 0. 0.]\n",
      "  [0. 0. 0. ... 0. 0. 0.]\n",
      "  [0. 0. 0. ... 0. 0. 0.]]\n",
      "\n",
      " [[0. 0. 0. ... 0. 0. 0.]\n",
      "  [0. 0. 0. ... 0. 0. 0.]\n",
      "  [0. 0. 0. ... 0. 0. 0.]\n",
      "  ...\n",
      "  [0. 0. 0. ... 0. 0. 0.]\n",
      "  [0. 0. 0. ... 0. 0. 0.]\n",
      "  [0. 0. 0. ... 0. 0. 0.]]\n",
      "\n",
      " [[0. 0. 0. ... 0. 0. 0.]\n",
      "  [0. 0. 0. ... 0. 0. 0.]\n",
      "  [0. 0. 0. ... 0. 0. 0.]\n",
      "  ...\n",
      "  [0. 0. 0. ... 0. 0. 0.]\n",
      "  [0. 0. 0. ... 0. 0. 0.]\n",
      "  [0. 0. 0. ... 0. 0. 0.]]]\n"
     ]
    }
   ],
   "source": [
    "encoder_input_data = np.zeros(\n",
    "    (len(input_texts), max_encoder_seq_length, num_encoder_tokens), dtype=\"float32\"\n",
    ")\n",
    "decoder_input_data = np.zeros(\n",
    "    (len(input_texts), max_decoder_seq_length, num_decoder_tokens), dtype=\"float32\"\n",
    ")\n",
    "decoder_target_data = np.zeros(\n",
    "    (len(input_texts), max_decoder_seq_length, num_decoder_tokens), dtype=\"float32\"\n",
    ")\n",
    "print(encoder_input_data)\n",
    "print(decoder_input_data)\n",
    "print(decoder_target_data)"
   ]
  },
  {
   "cell_type": "code",
   "execution_count": 13,
   "id": "b5e6cb4a",
   "metadata": {
    "execution": {
     "iopub.execute_input": "2022-03-26T05:30:53.808429Z",
     "iopub.status.busy": "2022-03-26T05:30:53.807648Z",
     "iopub.status.idle": "2022-03-26T05:30:54.380845Z",
     "shell.execute_reply": "2022-03-26T05:30:54.379934Z",
     "shell.execute_reply.started": "2022-03-26T05:23:08.605287Z"
    },
    "papermill": {
     "duration": 0.597532,
     "end_time": "2022-03-26T05:30:54.380996",
     "exception": false,
     "start_time": "2022-03-26T05:30:53.783464",
     "status": "completed"
    },
    "tags": []
   },
   "outputs": [],
   "source": [
    "for i, (input_text, target_text) in enumerate(zip(input_texts, target_texts)):\n",
    "    for t, char in enumerate(input_text):\n",
    "        encoder_input_data[i, t, input_token_index[char]] = 1.0\n",
    "    encoder_input_data[i, t + 1 :, input_token_index[\" \"]] = 1.0\n",
    "    for t, char in enumerate(target_text):\n",
    "        # decoder_target_data is ahead of decoder_input_data by one timestep\n",
    "        decoder_input_data[i, t, target_token_index[char]] = 1.0\n",
    "        if t > 0:\n",
    "            # decoder_target_data will be ahead by one timestep\n",
    "            # and will not include the start character.\n",
    "            decoder_target_data[i, t - 1, target_token_index[char]] = 1.0\n",
    "    decoder_input_data[i, t + 1 :, target_token_index[\" \"]] = 1.0\n",
    "    decoder_target_data[i, t:, target_token_index[\" \"]] = 1.0"
   ]
  },
  {
   "cell_type": "markdown",
   "id": "74d014a5",
   "metadata": {
    "papermill": {
     "duration": 0.021693,
     "end_time": "2022-03-26T05:30:54.424865",
     "exception": false,
     "start_time": "2022-03-26T05:30:54.403172",
     "status": "completed"
    },
    "tags": []
   },
   "source": [
    "# Build the Model"
   ]
  },
  {
   "cell_type": "code",
   "execution_count": 14,
   "id": "e5afe9ab",
   "metadata": {
    "execution": {
     "iopub.execute_input": "2022-03-26T05:30:54.474779Z",
     "iopub.status.busy": "2022-03-26T05:30:54.474249Z",
     "iopub.status.idle": "2022-03-26T05:31:01.814813Z",
     "shell.execute_reply": "2022-03-26T05:31:01.814306Z",
     "shell.execute_reply.started": "2022-03-26T05:23:09.116526Z"
    },
    "papermill": {
     "duration": 7.368374,
     "end_time": "2022-03-26T05:31:01.814948",
     "exception": false,
     "start_time": "2022-03-26T05:30:54.446574",
     "status": "completed"
    },
    "tags": []
   },
   "outputs": [
    {
     "name": "stderr",
     "output_type": "stream",
     "text": [
      "2022-03-26 05:30:59.412300: I tensorflow/stream_executor/cuda/cuda_gpu_executor.cc:937] successful NUMA node read from SysFS had negative value (-1), but there must be at least one NUMA node, so returning NUMA node zero\n",
      "2022-03-26 05:30:59.490932: I tensorflow/stream_executor/cuda/cuda_gpu_executor.cc:937] successful NUMA node read from SysFS had negative value (-1), but there must be at least one NUMA node, so returning NUMA node zero\n",
      "2022-03-26 05:30:59.491587: I tensorflow/stream_executor/cuda/cuda_gpu_executor.cc:937] successful NUMA node read from SysFS had negative value (-1), but there must be at least one NUMA node, so returning NUMA node zero\n",
      "2022-03-26 05:30:59.492858: I tensorflow/core/platform/cpu_feature_guard.cc:142] This TensorFlow binary is optimized with oneAPI Deep Neural Network Library (oneDNN) to use the following CPU instructions in performance-critical operations:  AVX2 AVX512F FMA\n",
      "To enable them in other operations, rebuild TensorFlow with the appropriate compiler flags.\n",
      "2022-03-26 05:30:59.493828: I tensorflow/stream_executor/cuda/cuda_gpu_executor.cc:937] successful NUMA node read from SysFS had negative value (-1), but there must be at least one NUMA node, so returning NUMA node zero\n",
      "2022-03-26 05:30:59.494482: I tensorflow/stream_executor/cuda/cuda_gpu_executor.cc:937] successful NUMA node read from SysFS had negative value (-1), but there must be at least one NUMA node, so returning NUMA node zero\n",
      "2022-03-26 05:30:59.495143: I tensorflow/stream_executor/cuda/cuda_gpu_executor.cc:937] successful NUMA node read from SysFS had negative value (-1), but there must be at least one NUMA node, so returning NUMA node zero\n",
      "2022-03-26 05:31:01.023825: I tensorflow/stream_executor/cuda/cuda_gpu_executor.cc:937] successful NUMA node read from SysFS had negative value (-1), but there must be at least one NUMA node, so returning NUMA node zero\n",
      "2022-03-26 05:31:01.024552: I tensorflow/stream_executor/cuda/cuda_gpu_executor.cc:937] successful NUMA node read from SysFS had negative value (-1), but there must be at least one NUMA node, so returning NUMA node zero\n",
      "2022-03-26 05:31:01.025300: I tensorflow/stream_executor/cuda/cuda_gpu_executor.cc:937] successful NUMA node read from SysFS had negative value (-1), but there must be at least one NUMA node, so returning NUMA node zero\n",
      "2022-03-26 05:31:01.025969: I tensorflow/core/common_runtime/gpu/gpu_device.cc:1510] Created device /job:localhost/replica:0/task:0/device:GPU:0 with 15403 MB memory:  -> device: 0, name: Tesla P100-PCIE-16GB, pci bus id: 0000:00:04.0, compute capability: 6.0\n"
     ]
    }
   ],
   "source": [
    "from tensorflow import keras\n",
    "# Define an input sequence and process it.\n",
    "encoder_inputs = keras.Input(shape=(None, num_encoder_tokens))\n",
    "encoder = keras.layers.LSTM(latent_dim, return_state=True)\n",
    "encoder_outputs, state_h, state_c = encoder(encoder_inputs)\n",
    "\n",
    "# We discard `encoder_outputs` and only keep the states.\n",
    "encoder_states = [state_h, state_c]\n",
    "\n",
    "# Set up the decoder, using `encoder_states` as initial state.\n",
    "decoder_inputs = keras.Input(shape=(None, num_decoder_tokens))\n",
    "\n",
    "# We set up our decoder to return full output sequences,\n",
    "# and to return internal states as well. We don't use the\n",
    "# return states in the training model, but we will use them in inference.\n",
    "decoder_lstm = keras.layers.LSTM(latent_dim, return_sequences=True, return_state=True)\n",
    "decoder_outputs, _, _ = decoder_lstm(decoder_inputs, initial_state=encoder_states)\n",
    "decoder_dense = keras.layers.Dense(num_decoder_tokens, activation=\"softmax\")\n",
    "decoder_outputs = decoder_dense(decoder_outputs)\n",
    "\n",
    "# Define the model that will turn\n",
    "# `encoder_input_data` & `decoder_input_data` into `decoder_target_data`\n",
    "model = keras.Model([encoder_inputs, decoder_inputs], decoder_outputs)"
   ]
  },
  {
   "cell_type": "markdown",
   "id": "18da5b80",
   "metadata": {
    "papermill": {
     "duration": 0.022822,
     "end_time": "2022-03-26T05:31:01.860656",
     "exception": false,
     "start_time": "2022-03-26T05:31:01.837834",
     "status": "completed"
    },
    "tags": []
   },
   "source": [
    "# Train the Model"
   ]
  },
  {
   "cell_type": "code",
   "execution_count": 15,
   "id": "3f4afe93",
   "metadata": {
    "execution": {
     "iopub.execute_input": "2022-03-26T05:31:01.930250Z",
     "iopub.status.busy": "2022-03-26T05:31:01.929449Z",
     "iopub.status.idle": "2022-03-26T05:34:00.937689Z",
     "shell.execute_reply": "2022-03-26T05:34:00.936733Z",
     "shell.execute_reply.started": "2022-03-26T05:23:17.734711Z"
    },
    "papermill": {
     "duration": 179.054539,
     "end_time": "2022-03-26T05:34:00.937872",
     "exception": false,
     "start_time": "2022-03-26T05:31:01.883333",
     "status": "completed"
    },
    "tags": []
   },
   "outputs": [
    {
     "name": "stderr",
     "output_type": "stream",
     "text": [
      "2022-03-26 05:31:02.772078: I tensorflow/compiler/mlir/mlir_graph_optimization_pass.cc:185] None of the MLIR Optimization Passes are enabled (registered 2)\n"
     ]
    },
    {
     "name": "stdout",
     "output_type": "stream",
     "text": [
      "Epoch 1/100\n"
     ]
    },
    {
     "name": "stderr",
     "output_type": "stream",
     "text": [
      "2022-03-26 05:31:05.568023: I tensorflow/stream_executor/cuda/cuda_dnn.cc:369] Loaded cuDNN version 8005\n"
     ]
    },
    {
     "name": "stdout",
     "output_type": "stream",
     "text": [
      "125/125 [==============================] - 7s 21ms/step - loss: 1.1862 - accuracy: 0.7240 - val_loss: 1.0580 - val_accuracy: 0.7036\n",
      "Epoch 2/100\n",
      "125/125 [==============================] - 2s 13ms/step - loss: 0.8659 - accuracy: 0.7678 - val_loss: 0.8523 - val_accuracy: 0.7633\n",
      "Epoch 3/100\n",
      "125/125 [==============================] - 2s 13ms/step - loss: 0.6973 - accuracy: 0.8053 - val_loss: 0.7217 - val_accuracy: 0.7889\n",
      "Epoch 4/100\n",
      "125/125 [==============================] - 2s 13ms/step - loss: 0.6044 - accuracy: 0.8262 - val_loss: 0.6538 - val_accuracy: 0.8101\n",
      "Epoch 5/100\n",
      "125/125 [==============================] - 2s 13ms/step - loss: 0.5532 - accuracy: 0.8392 - val_loss: 0.6228 - val_accuracy: 0.8159\n",
      "Epoch 6/100\n",
      "125/125 [==============================] - 2s 13ms/step - loss: 0.5161 - accuracy: 0.8490 - val_loss: 0.5847 - val_accuracy: 0.8287\n",
      "Epoch 7/100\n",
      "125/125 [==============================] - 2s 14ms/step - loss: 0.4870 - accuracy: 0.8563 - val_loss: 0.5632 - val_accuracy: 0.8341\n",
      "Epoch 8/100\n",
      "125/125 [==============================] - 2s 13ms/step - loss: 0.4627 - accuracy: 0.8624 - val_loss: 0.5393 - val_accuracy: 0.8400\n",
      "Epoch 9/100\n",
      "125/125 [==============================] - 2s 13ms/step - loss: 0.4408 - accuracy: 0.8688 - val_loss: 0.5240 - val_accuracy: 0.8442\n",
      "Epoch 10/100\n",
      "125/125 [==============================] - 2s 13ms/step - loss: 0.4216 - accuracy: 0.8739 - val_loss: 0.5083 - val_accuracy: 0.8488\n",
      "Epoch 11/100\n",
      "125/125 [==============================] - 2s 13ms/step - loss: 0.4037 - accuracy: 0.8792 - val_loss: 0.5039 - val_accuracy: 0.8502\n",
      "Epoch 12/100\n",
      "125/125 [==============================] - 2s 13ms/step - loss: 0.3876 - accuracy: 0.8835 - val_loss: 0.4863 - val_accuracy: 0.8551\n",
      "Epoch 13/100\n",
      "125/125 [==============================] - 2s 14ms/step - loss: 0.3724 - accuracy: 0.8884 - val_loss: 0.4741 - val_accuracy: 0.8594\n",
      "Epoch 14/100\n",
      "125/125 [==============================] - 2s 13ms/step - loss: 0.3585 - accuracy: 0.8920 - val_loss: 0.4687 - val_accuracy: 0.8608\n",
      "Epoch 15/100\n",
      "125/125 [==============================] - 2s 13ms/step - loss: 0.3452 - accuracy: 0.8958 - val_loss: 0.4673 - val_accuracy: 0.8625\n",
      "Epoch 16/100\n",
      "125/125 [==============================] - 2s 13ms/step - loss: 0.3330 - accuracy: 0.8995 - val_loss: 0.4553 - val_accuracy: 0.8669\n",
      "Epoch 17/100\n",
      "125/125 [==============================] - 2s 14ms/step - loss: 0.3211 - accuracy: 0.9032 - val_loss: 0.4517 - val_accuracy: 0.8668\n",
      "Epoch 18/100\n",
      "125/125 [==============================] - 2s 13ms/step - loss: 0.3096 - accuracy: 0.9067 - val_loss: 0.4483 - val_accuracy: 0.8687\n",
      "Epoch 19/100\n",
      "125/125 [==============================] - 2s 13ms/step - loss: 0.2992 - accuracy: 0.9096 - val_loss: 0.4446 - val_accuracy: 0.8695\n",
      "Epoch 20/100\n",
      "125/125 [==============================] - 2s 14ms/step - loss: 0.2890 - accuracy: 0.9128 - val_loss: 0.4415 - val_accuracy: 0.8703\n",
      "Epoch 21/100\n",
      "125/125 [==============================] - 2s 13ms/step - loss: 0.2794 - accuracy: 0.9153 - val_loss: 0.4400 - val_accuracy: 0.8724\n",
      "Epoch 22/100\n",
      "125/125 [==============================] - 2s 13ms/step - loss: 0.2703 - accuracy: 0.9185 - val_loss: 0.4405 - val_accuracy: 0.8730\n",
      "Epoch 23/100\n",
      "125/125 [==============================] - 2s 13ms/step - loss: 0.2612 - accuracy: 0.9212 - val_loss: 0.4381 - val_accuracy: 0.8733\n",
      "Epoch 24/100\n",
      "125/125 [==============================] - 2s 13ms/step - loss: 0.2530 - accuracy: 0.9232 - val_loss: 0.4398 - val_accuracy: 0.8739\n",
      "Epoch 25/100\n",
      "125/125 [==============================] - 2s 13ms/step - loss: 0.2446 - accuracy: 0.9259 - val_loss: 0.4419 - val_accuracy: 0.8731\n",
      "Epoch 26/100\n",
      "125/125 [==============================] - 2s 14ms/step - loss: 0.2368 - accuracy: 0.9281 - val_loss: 0.4478 - val_accuracy: 0.8724\n",
      "Epoch 27/100\n",
      "125/125 [==============================] - 2s 13ms/step - loss: 0.2296 - accuracy: 0.9304 - val_loss: 0.4413 - val_accuracy: 0.8767\n",
      "Epoch 28/100\n",
      "125/125 [==============================] - 2s 13ms/step - loss: 0.2227 - accuracy: 0.9323 - val_loss: 0.4421 - val_accuracy: 0.8761\n",
      "Epoch 29/100\n",
      "125/125 [==============================] - 2s 13ms/step - loss: 0.2157 - accuracy: 0.9344 - val_loss: 0.4461 - val_accuracy: 0.8760\n",
      "Epoch 30/100\n",
      "125/125 [==============================] - 2s 13ms/step - loss: 0.2094 - accuracy: 0.9360 - val_loss: 0.4472 - val_accuracy: 0.8768\n",
      "Epoch 31/100\n",
      "125/125 [==============================] - 2s 13ms/step - loss: 0.2027 - accuracy: 0.9380 - val_loss: 0.4519 - val_accuracy: 0.8761\n",
      "Epoch 32/100\n",
      "125/125 [==============================] - 2s 13ms/step - loss: 0.1968 - accuracy: 0.9399 - val_loss: 0.4529 - val_accuracy: 0.8757\n",
      "Epoch 33/100\n",
      "125/125 [==============================] - 2s 14ms/step - loss: 0.1908 - accuracy: 0.9416 - val_loss: 0.4567 - val_accuracy: 0.8761\n",
      "Epoch 34/100\n",
      "125/125 [==============================] - 2s 13ms/step - loss: 0.1852 - accuracy: 0.9432 - val_loss: 0.4592 - val_accuracy: 0.8769\n",
      "Epoch 35/100\n",
      "125/125 [==============================] - 2s 13ms/step - loss: 0.1794 - accuracy: 0.9449 - val_loss: 0.4625 - val_accuracy: 0.8755\n",
      "Epoch 36/100\n",
      "125/125 [==============================] - 2s 13ms/step - loss: 0.1749 - accuracy: 0.9466 - val_loss: 0.4649 - val_accuracy: 0.8761\n",
      "Epoch 37/100\n",
      "125/125 [==============================] - 2s 15ms/step - loss: 0.1699 - accuracy: 0.9479 - val_loss: 0.4685 - val_accuracy: 0.8772\n",
      "Epoch 38/100\n",
      "125/125 [==============================] - 2s 13ms/step - loss: 0.1648 - accuracy: 0.9496 - val_loss: 0.4737 - val_accuracy: 0.8764\n",
      "Epoch 39/100\n",
      "125/125 [==============================] - 2s 13ms/step - loss: 0.1602 - accuracy: 0.9508 - val_loss: 0.4768 - val_accuracy: 0.8760\n",
      "Epoch 40/100\n",
      "125/125 [==============================] - 2s 14ms/step - loss: 0.1560 - accuracy: 0.9521 - val_loss: 0.4825 - val_accuracy: 0.8763\n",
      "Epoch 41/100\n",
      "125/125 [==============================] - 2s 13ms/step - loss: 0.1517 - accuracy: 0.9533 - val_loss: 0.4836 - val_accuracy: 0.8758\n",
      "Epoch 42/100\n",
      "125/125 [==============================] - 2s 13ms/step - loss: 0.1473 - accuracy: 0.9549 - val_loss: 0.4899 - val_accuracy: 0.8750\n",
      "Epoch 43/100\n",
      "125/125 [==============================] - 2s 13ms/step - loss: 0.1438 - accuracy: 0.9560 - val_loss: 0.4931 - val_accuracy: 0.8758\n",
      "Epoch 44/100\n",
      "125/125 [==============================] - 2s 13ms/step - loss: 0.1394 - accuracy: 0.9571 - val_loss: 0.4971 - val_accuracy: 0.8763\n",
      "Epoch 45/100\n",
      "125/125 [==============================] - 2s 13ms/step - loss: 0.1361 - accuracy: 0.9580 - val_loss: 0.5027 - val_accuracy: 0.8759\n",
      "Epoch 46/100\n",
      "125/125 [==============================] - 2s 14ms/step - loss: 0.1326 - accuracy: 0.9591 - val_loss: 0.5077 - val_accuracy: 0.8747\n",
      "Epoch 47/100\n",
      "125/125 [==============================] - 2s 13ms/step - loss: 0.1292 - accuracy: 0.9598 - val_loss: 0.5097 - val_accuracy: 0.8769\n",
      "Epoch 48/100\n",
      "125/125 [==============================] - 2s 13ms/step - loss: 0.1261 - accuracy: 0.9609 - val_loss: 0.5144 - val_accuracy: 0.8762\n",
      "Epoch 49/100\n",
      "125/125 [==============================] - 2s 13ms/step - loss: 0.1231 - accuracy: 0.9615 - val_loss: 0.5152 - val_accuracy: 0.8767\n",
      "Epoch 50/100\n",
      "125/125 [==============================] - 2s 13ms/step - loss: 0.1198 - accuracy: 0.9630 - val_loss: 0.5258 - val_accuracy: 0.8765\n",
      "Epoch 51/100\n",
      "125/125 [==============================] - 2s 13ms/step - loss: 0.1170 - accuracy: 0.9636 - val_loss: 0.5286 - val_accuracy: 0.8762\n",
      "Epoch 52/100\n",
      "125/125 [==============================] - 2s 14ms/step - loss: 0.1141 - accuracy: 0.9646 - val_loss: 0.5338 - val_accuracy: 0.8761\n",
      "Epoch 53/100\n",
      "125/125 [==============================] - 2s 14ms/step - loss: 0.1116 - accuracy: 0.9653 - val_loss: 0.5344 - val_accuracy: 0.8767\n",
      "Epoch 54/100\n",
      "125/125 [==============================] - 2s 13ms/step - loss: 0.1089 - accuracy: 0.9660 - val_loss: 0.5391 - val_accuracy: 0.8759\n",
      "Epoch 55/100\n",
      "125/125 [==============================] - 2s 13ms/step - loss: 0.1063 - accuracy: 0.9669 - val_loss: 0.5469 - val_accuracy: 0.8760\n",
      "Epoch 56/100\n",
      "125/125 [==============================] - 2s 13ms/step - loss: 0.1038 - accuracy: 0.9676 - val_loss: 0.5436 - val_accuracy: 0.8768\n",
      "Epoch 57/100\n",
      "125/125 [==============================] - 2s 15ms/step - loss: 0.1015 - accuracy: 0.9684 - val_loss: 0.5518 - val_accuracy: 0.8772\n",
      "Epoch 58/100\n",
      "125/125 [==============================] - 2s 13ms/step - loss: 0.0990 - accuracy: 0.9690 - val_loss: 0.5590 - val_accuracy: 0.8763\n",
      "Epoch 59/100\n",
      "125/125 [==============================] - 2s 14ms/step - loss: 0.0971 - accuracy: 0.9693 - val_loss: 0.5587 - val_accuracy: 0.8763\n",
      "Epoch 60/100\n",
      "125/125 [==============================] - 2s 13ms/step - loss: 0.0949 - accuracy: 0.9700 - val_loss: 0.5687 - val_accuracy: 0.8760\n",
      "Epoch 61/100\n",
      "125/125 [==============================] - 2s 13ms/step - loss: 0.0925 - accuracy: 0.9708 - val_loss: 0.5744 - val_accuracy: 0.8755\n",
      "Epoch 62/100\n",
      "125/125 [==============================] - 2s 13ms/step - loss: 0.0906 - accuracy: 0.9715 - val_loss: 0.5729 - val_accuracy: 0.8760\n",
      "Epoch 63/100\n",
      "125/125 [==============================] - 2s 13ms/step - loss: 0.0887 - accuracy: 0.9720 - val_loss: 0.5838 - val_accuracy: 0.8761\n",
      "Epoch 64/100\n",
      "125/125 [==============================] - 2s 13ms/step - loss: 0.0867 - accuracy: 0.9724 - val_loss: 0.5840 - val_accuracy: 0.8750\n",
      "Epoch 65/100\n",
      "125/125 [==============================] - 2s 13ms/step - loss: 0.0849 - accuracy: 0.9729 - val_loss: 0.5860 - val_accuracy: 0.8756\n",
      "Epoch 66/100\n",
      "125/125 [==============================] - 2s 14ms/step - loss: 0.0830 - accuracy: 0.9735 - val_loss: 0.5913 - val_accuracy: 0.8763\n",
      "Epoch 67/100\n",
      "125/125 [==============================] - 2s 13ms/step - loss: 0.0816 - accuracy: 0.9737 - val_loss: 0.5899 - val_accuracy: 0.8757\n",
      "Epoch 68/100\n",
      "125/125 [==============================] - 2s 13ms/step - loss: 0.0799 - accuracy: 0.9744 - val_loss: 0.5997 - val_accuracy: 0.8755\n",
      "Epoch 69/100\n",
      "125/125 [==============================] - 2s 13ms/step - loss: 0.0783 - accuracy: 0.9747 - val_loss: 0.6073 - val_accuracy: 0.8755\n",
      "Epoch 70/100\n",
      "125/125 [==============================] - 2s 13ms/step - loss: 0.0769 - accuracy: 0.9751 - val_loss: 0.6118 - val_accuracy: 0.8753\n",
      "Epoch 71/100\n",
      "125/125 [==============================] - 2s 14ms/step - loss: 0.0744 - accuracy: 0.9758 - val_loss: 0.6158 - val_accuracy: 0.8758\n",
      "Epoch 72/100\n",
      "125/125 [==============================] - 2s 13ms/step - loss: 0.0738 - accuracy: 0.9762 - val_loss: 0.6189 - val_accuracy: 0.8747\n",
      "Epoch 73/100\n",
      "125/125 [==============================] - 2s 14ms/step - loss: 0.0727 - accuracy: 0.9762 - val_loss: 0.6202 - val_accuracy: 0.8749\n",
      "Epoch 74/100\n",
      "125/125 [==============================] - 2s 13ms/step - loss: 0.0712 - accuracy: 0.9766 - val_loss: 0.6253 - val_accuracy: 0.8750\n",
      "Epoch 75/100\n",
      "125/125 [==============================] - 2s 13ms/step - loss: 0.0698 - accuracy: 0.9771 - val_loss: 0.6311 - val_accuracy: 0.8748\n",
      "Epoch 76/100\n",
      "125/125 [==============================] - 2s 13ms/step - loss: 0.0687 - accuracy: 0.9773 - val_loss: 0.6309 - val_accuracy: 0.8755\n",
      "Epoch 77/100\n",
      "125/125 [==============================] - 2s 14ms/step - loss: 0.0674 - accuracy: 0.9779 - val_loss: 0.6349 - val_accuracy: 0.8752\n",
      "Epoch 78/100\n",
      "125/125 [==============================] - 2s 13ms/step - loss: 0.0660 - accuracy: 0.9780 - val_loss: 0.6425 - val_accuracy: 0.8748\n",
      "Epoch 79/100\n",
      "125/125 [==============================] - 2s 14ms/step - loss: 0.0648 - accuracy: 0.9784 - val_loss: 0.6406 - val_accuracy: 0.8755\n",
      "Epoch 80/100\n",
      "125/125 [==============================] - 2s 13ms/step - loss: 0.0637 - accuracy: 0.9788 - val_loss: 0.6439 - val_accuracy: 0.8755\n",
      "Epoch 81/100\n",
      "125/125 [==============================] - 2s 13ms/step - loss: 0.0625 - accuracy: 0.9792 - val_loss: 0.6524 - val_accuracy: 0.8748\n",
      "Epoch 82/100\n",
      "125/125 [==============================] - 2s 13ms/step - loss: 0.0615 - accuracy: 0.9795 - val_loss: 0.6571 - val_accuracy: 0.8741\n",
      "Epoch 83/100\n",
      "125/125 [==============================] - 2s 13ms/step - loss: 0.0604 - accuracy: 0.9798 - val_loss: 0.6625 - val_accuracy: 0.8752\n",
      "Epoch 84/100\n",
      "125/125 [==============================] - 2s 13ms/step - loss: 0.0591 - accuracy: 0.9803 - val_loss: 0.6656 - val_accuracy: 0.8734\n",
      "Epoch 85/100\n",
      "125/125 [==============================] - 2s 13ms/step - loss: 0.0582 - accuracy: 0.9804 - val_loss: 0.6648 - val_accuracy: 0.8741\n",
      "Epoch 86/100\n",
      "125/125 [==============================] - 2s 14ms/step - loss: 0.0574 - accuracy: 0.9806 - val_loss: 0.6649 - val_accuracy: 0.8754\n",
      "Epoch 87/100\n",
      "125/125 [==============================] - 2s 13ms/step - loss: 0.0566 - accuracy: 0.9807 - val_loss: 0.6750 - val_accuracy: 0.8739\n",
      "Epoch 88/100\n",
      "125/125 [==============================] - 2s 13ms/step - loss: 0.0557 - accuracy: 0.9810 - val_loss: 0.6781 - val_accuracy: 0.8737\n",
      "Epoch 89/100\n",
      "125/125 [==============================] - 2s 13ms/step - loss: 0.0548 - accuracy: 0.9813 - val_loss: 0.6840 - val_accuracy: 0.8740\n",
      "Epoch 90/100\n",
      "125/125 [==============================] - 2s 14ms/step - loss: 0.0538 - accuracy: 0.9816 - val_loss: 0.6907 - val_accuracy: 0.8743\n",
      "Epoch 91/100\n",
      "125/125 [==============================] - 2s 13ms/step - loss: 0.0532 - accuracy: 0.9818 - val_loss: 0.6912 - val_accuracy: 0.8743\n",
      "Epoch 92/100\n",
      "125/125 [==============================] - 2s 13ms/step - loss: 0.0523 - accuracy: 0.9820 - val_loss: 0.6957 - val_accuracy: 0.8743\n",
      "Epoch 93/100\n",
      "125/125 [==============================] - 2s 13ms/step - loss: 0.0517 - accuracy: 0.9821 - val_loss: 0.6957 - val_accuracy: 0.8737\n",
      "Epoch 94/100\n",
      "125/125 [==============================] - 2s 13ms/step - loss: 0.0506 - accuracy: 0.9825 - val_loss: 0.7028 - val_accuracy: 0.8737\n",
      "Epoch 95/100\n",
      "125/125 [==============================] - 2s 13ms/step - loss: 0.0503 - accuracy: 0.9826 - val_loss: 0.6980 - val_accuracy: 0.8745\n",
      "Epoch 96/100\n",
      "125/125 [==============================] - 2s 13ms/step - loss: 0.0494 - accuracy: 0.9828 - val_loss: 0.7011 - val_accuracy: 0.8738\n",
      "Epoch 97/100\n",
      "125/125 [==============================] - 2s 14ms/step - loss: 0.0486 - accuracy: 0.9831 - val_loss: 0.7093 - val_accuracy: 0.8739\n",
      "Epoch 98/100\n",
      "125/125 [==============================] - 2s 13ms/step - loss: 0.0480 - accuracy: 0.9833 - val_loss: 0.7101 - val_accuracy: 0.8733\n",
      "Epoch 99/100\n",
      "125/125 [==============================] - 2s 14ms/step - loss: 0.0473 - accuracy: 0.9834 - val_loss: 0.7164 - val_accuracy: 0.8734\n",
      "Epoch 100/100\n",
      "125/125 [==============================] - 2s 14ms/step - loss: 0.0467 - accuracy: 0.9836 - val_loss: 0.7240 - val_accuracy: 0.8728\n"
     ]
    },
    {
     "name": "stderr",
     "output_type": "stream",
     "text": [
      "2022-03-26 05:33:57.042609: W tensorflow/python/util/util.cc:348] Sets are not currently considered sequences, but this may change in the future, so consider avoiding using them.\n"
     ]
    }
   ],
   "source": [
    "model.compile(\n",
    "    optimizer=\"rmsprop\", loss=\"categorical_crossentropy\", metrics=[\"accuracy\"]\n",
    ")\n",
    "model.fit(\n",
    "    [encoder_input_data, decoder_input_data],\n",
    "    decoder_target_data,\n",
    "    batch_size=batch_size,\n",
    "    epochs=epochs,\n",
    "    validation_split=0.2,\n",
    ")\n",
    "# Save model\n",
    "model.save(\"s2s\")"
   ]
  },
  {
   "cell_type": "code",
   "execution_count": 16,
   "id": "68e65cd3",
   "metadata": {
    "execution": {
     "iopub.execute_input": "2022-03-26T05:34:02.887867Z",
     "iopub.status.busy": "2022-03-26T05:34:02.879854Z",
     "iopub.status.idle": "2022-03-26T05:34:07.027245Z",
     "shell.execute_reply": "2022-03-26T05:34:07.026465Z",
     "shell.execute_reply.started": "2022-03-26T05:26:36.590054Z"
    },
    "papermill": {
     "duration": 5.135012,
     "end_time": "2022-03-26T05:34:07.027374",
     "exception": false,
     "start_time": "2022-03-26T05:34:01.892362",
     "status": "completed"
    },
    "tags": []
   },
   "outputs": [],
   "source": [
    "# Define sampling models\n",
    "# Restore the model and construct the encoder and decoder.\n",
    "model = keras.models.load_model(\"s2s\")\n",
    "\n",
    "encoder_inputs = model.input[0]  # input_1\n",
    "encoder_outputs, state_h_enc, state_c_enc = model.layers[2].output  # lstm_1\n",
    "encoder_states = [state_h_enc, state_c_enc]\n",
    "encoder_model = keras.Model(encoder_inputs, encoder_states)\n",
    "\n",
    "decoder_inputs = model.input[1]  # input_2\n",
    "decoder_state_input_h = keras.Input(shape=(latent_dim,))\n",
    "decoder_state_input_c = keras.Input(shape=(latent_dim,))\n",
    "decoder_states_inputs = [decoder_state_input_h, decoder_state_input_c]\n",
    "decoder_lstm = model.layers[3]\n",
    "decoder_outputs, state_h_dec, state_c_dec = decoder_lstm(\n",
    "    decoder_inputs, initial_state=decoder_states_inputs\n",
    ")\n",
    "decoder_states = [state_h_dec, state_c_dec]\n",
    "decoder_dense = model.layers[4]\n",
    "decoder_outputs = decoder_dense(decoder_outputs)\n",
    "decoder_model = keras.Model(\n",
    "    [decoder_inputs] + decoder_states_inputs, [decoder_outputs] + decoder_states\n",
    ")\n",
    "\n",
    "# Reverse-lookup token index to decode sequences back to\n",
    "# something readable.\n",
    "reverse_input_char_index = dict((i, char) for char, i in input_token_index.items())\n",
    "reverse_target_char_index = dict((i, char) for char, i in target_token_index.items())\n",
    "\n",
    "\n",
    "def decode_sequence(input_seq):\n",
    "    # Encode the input as state vectors.\n",
    "    states_value = encoder_model.predict(input_seq)\n",
    "\n",
    "    # Generate empty target sequence of length 1.\n",
    "    target_seq = np.zeros((1, 1, num_decoder_tokens))\n",
    "    # Populate the first character of target sequence with the start character.\n",
    "    target_seq[0, 0, target_token_index[\"\\t\"]] = 1.0\n",
    "\n",
    "    # Sampling loop for a batch of sequences\n",
    "    # (to simplify, here we assume a batch of size 1).\n",
    "    stop_condition = False\n",
    "    decoded_sentence = \"\"\n",
    "    while not stop_condition:\n",
    "        output_tokens, h, c = decoder_model.predict([target_seq] + states_value)\n",
    "\n",
    "        # Sample a token\n",
    "        sampled_token_index = np.argmax(output_tokens[0, -1, :])\n",
    "        sampled_char = reverse_target_char_index[sampled_token_index]\n",
    "        decoded_sentence += sampled_char\n",
    "\n",
    "        # Exit condition: either hit max length\n",
    "        # or find stop character.\n",
    "        if sampled_char == \"\\n\" or len(decoded_sentence) > max_decoder_seq_length:\n",
    "            stop_condition = True\n",
    "\n",
    "        # Update the target sequence (of length 1).\n",
    "        target_seq = np.zeros((1, 1, num_decoder_tokens))\n",
    "        target_seq[0, 0, sampled_token_index] = 1.0\n",
    "\n",
    "        # Update states\n",
    "        states_value = [h, c]\n",
    "    return decoded_sentence"
   ]
  },
  {
   "cell_type": "code",
   "execution_count": 17,
   "id": "84badefb",
   "metadata": {
    "execution": {
     "iopub.execute_input": "2022-03-26T05:34:08.694231Z",
     "iopub.status.busy": "2022-03-26T05:34:08.693519Z",
     "iopub.status.idle": "2022-03-26T05:34:17.884032Z",
     "shell.execute_reply": "2022-03-26T05:34:17.884622Z",
     "shell.execute_reply.started": "2022-03-26T05:26:53.274397Z"
    },
    "papermill": {
     "duration": 10.028682,
     "end_time": "2022-03-26T05:34:17.884828",
     "exception": false,
     "start_time": "2022-03-26T05:34:07.856146",
     "status": "completed"
    },
    "tags": []
   },
   "outputs": [
    {
     "name": "stdout",
     "output_type": "stream",
     "text": [
      "-\n",
      "Input sentence: Go.\n",
      "Decoded sentence: Va !\n",
      "\n",
      "-\n",
      "Input sentence: Hi.\n",
      "Decoded sentence: Salut !\n",
      "\n",
      "-\n",
      "Input sentence: Hi.\n",
      "Decoded sentence: Salut !\n",
      "\n",
      "-\n",
      "Input sentence: Run!\n",
      "Decoded sentence: Courez !\n",
      "\n",
      "-\n",
      "Input sentence: Run!\n",
      "Decoded sentence: Courez !\n",
      "\n",
      "-\n",
      "Input sentence: Who?\n",
      "Decoded sentence: Qui ?\n",
      "\n",
      "-\n",
      "Input sentence: Wow!\n",
      "Decoded sentence: Ça alors !\n",
      "\n",
      "-\n",
      "Input sentence: Fire!\n",
      "Decoded sentence: Au feu !\n",
      "\n",
      "-\n",
      "Input sentence: Help!\n",
      "Decoded sentence: À l'aide !\n",
      "\n",
      "-\n",
      "Input sentence: Jump.\n",
      "Decoded sentence: Saute.\n",
      "\n",
      "-\n",
      "Input sentence: Stop!\n",
      "Decoded sentence: Arrête-toi !\n",
      "\n",
      "-\n",
      "Input sentence: Stop!\n",
      "Decoded sentence: Arrête-toi !\n",
      "\n",
      "-\n",
      "Input sentence: Stop!\n",
      "Decoded sentence: Arrête-toi !\n",
      "\n",
      "-\n",
      "Input sentence: Wait!\n",
      "Decoded sentence: Attends !\n",
      "\n",
      "-\n",
      "Input sentence: Wait!\n",
      "Decoded sentence: Attends !\n",
      "\n",
      "-\n",
      "Input sentence: Go on.\n",
      "Decoded sentence: Poursuivez.\n",
      "\n",
      "-\n",
      "Input sentence: Go on.\n",
      "Decoded sentence: Poursuivez.\n",
      "\n",
      "-\n",
      "Input sentence: Go on.\n",
      "Decoded sentence: Poursuivez.\n",
      "\n",
      "-\n",
      "Input sentence: Hello!\n",
      "Decoded sentence: Salut !\n",
      "\n",
      "-\n",
      "Input sentence: Hello!\n",
      "Decoded sentence: Salut !\n",
      "\n"
     ]
    }
   ],
   "source": [
    "for seq_index in range(20):\n",
    "    # Take one sequence (part of the training set)\n",
    "    # for trying out decoding.\n",
    "    input_seq = encoder_input_data[seq_index : seq_index + 1]\n",
    "    decoded_sentence = decode_sequence(input_seq)\n",
    "    print(\"-\")\n",
    "    print(\"Input sentence:\", input_texts[seq_index])\n",
    "    print(\"Decoded sentence:\", decoded_sentence)"
   ]
  }
 ],
 "metadata": {
  "kernelspec": {
   "display_name": "Python 3",
   "language": "python",
   "name": "python3"
  },
  "language_info": {
   "codemirror_mode": {
    "name": "ipython",
    "version": 3
   },
   "file_extension": ".py",
   "mimetype": "text/x-python",
   "name": "python",
   "nbconvert_exporter": "python",
   "pygments_lexer": "ipython3",
   "version": "3.7.12"
  },
  "papermill": {
   "default_parameters": {},
   "duration": 217.533081,
   "end_time": "2022-03-26T05:34:22.085056",
   "environment_variables": {},
   "exception": null,
   "input_path": "__notebook__.ipynb",
   "output_path": "__notebook__.ipynb",
   "parameters": {},
   "start_time": "2022-03-26T05:30:44.551975",
   "version": "2.3.3"
  }
 },
 "nbformat": 4,
 "nbformat_minor": 5
}
