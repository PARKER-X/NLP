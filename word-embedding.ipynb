{
 "cells": [
  {
   "cell_type": "code",
   "execution_count": 1,
   "id": "e938e79b",
   "metadata": {
    "_cell_guid": "b1076dfc-b9ad-4769-8c92-a6c4dae69d19",
    "_uuid": "8f2839f25d086af736a60e9eeb907d3b93b6e0e5",
    "execution": {
     "iopub.execute_input": "2022-03-20T11:25:17.637272Z",
     "iopub.status.busy": "2022-03-20T11:25:17.636408Z",
     "iopub.status.idle": "2022-03-20T11:25:17.640320Z",
     "shell.execute_reply": "2022-03-20T11:25:17.639751Z",
     "shell.execute_reply.started": "2022-03-20T10:49:53.291391Z"
    },
    "papermill": {
     "duration": 0.032281,
     "end_time": "2022-03-20T11:25:17.640506",
     "exception": false,
     "start_time": "2022-03-20T11:25:17.608225",
     "status": "completed"
    },
    "tags": []
   },
   "outputs": [],
   "source": [
    "# This Python 3 environment comes with many helpful analytics libraries installed\n",
    "# It is defined by the kaggle/python Docker image: https://github.com/kaggle/docker-python\n",
    "# For example, here's several helpful packages to load\n",
    "\n",
    "import numpy as np # linear algebra\n",
    "import pandas as pd # data processing, CSV file I/O (e.g. pd.read_csv)\n",
    "\n",
    "# Input data files are available in the read-only \"../input/\" directory\n",
    "# For example, running this (by clicking run or pressing Shift+Enter) will list all files under the input directory\n",
    "\n",
    "import os\n",
    "for dirname, _, filenames in os.walk('/kaggle/input'):\n",
    "    for filename in filenames:\n",
    "        print(os.path.join(dirname, filename))\n",
    "\n",
    "# You can write up to 20GB to the current directory (/kaggle/working/) that gets preserved as output when you create a version using \"Save & Run All\" \n",
    "# You can also write temporary files to /kaggle/temp/, but they won't be saved outside of the current session"
   ]
  },
  {
   "cell_type": "markdown",
   "id": "3e5720d2",
   "metadata": {
    "papermill": {
     "duration": 0.015614,
     "end_time": "2022-03-20T11:25:17.672712",
     "exception": false,
     "start_time": "2022-03-20T11:25:17.657098",
     "status": "completed"
    },
    "tags": []
   },
   "source": [
    "# Word Embedding"
   ]
  },
  {
   "cell_type": "markdown",
   "id": "8e8b6406",
   "metadata": {
    "papermill": {
     "duration": 0.015652,
     "end_time": "2022-03-20T11:25:17.704306",
     "exception": false,
     "start_time": "2022-03-20T11:25:17.688654",
     "status": "completed"
    },
    "tags": []
   },
   "source": [
    "Word embeddings provide a dense representation of words and their relative meanings."
   ]
  },
  {
   "cell_type": "code",
   "execution_count": 2,
   "id": "c001f654",
   "metadata": {
    "execution": {
     "iopub.execute_input": "2022-03-20T11:25:17.741548Z",
     "iopub.status.busy": "2022-03-20T11:25:17.740682Z",
     "iopub.status.idle": "2022-03-20T11:25:23.723684Z",
     "shell.execute_reply": "2022-03-20T11:25:23.723093Z",
     "shell.execute_reply.started": "2022-03-20T10:49:53.321818Z"
    },
    "papermill": {
     "duration": 6.003579,
     "end_time": "2022-03-20T11:25:23.723844",
     "exception": false,
     "start_time": "2022-03-20T11:25:17.720265",
     "status": "completed"
    },
    "tags": []
   },
   "outputs": [],
   "source": [
    "from tensorflow.keras.preprocessing.text import one_hot"
   ]
  },
  {
   "cell_type": "code",
   "execution_count": 3,
   "id": "63727978",
   "metadata": {
    "execution": {
     "iopub.execute_input": "2022-03-20T11:25:23.761325Z",
     "iopub.status.busy": "2022-03-20T11:25:23.760379Z",
     "iopub.status.idle": "2022-03-20T11:25:23.763233Z",
     "shell.execute_reply": "2022-03-20T11:25:23.762744Z",
     "shell.execute_reply.started": "2022-03-20T10:53:10.963441Z"
    },
    "papermill": {
     "duration": 0.023385,
     "end_time": "2022-03-20T11:25:23.763371",
     "exception": false,
     "start_time": "2022-03-20T11:25:23.739986",
     "status": "completed"
    },
    "tags": []
   },
   "outputs": [],
   "source": [
    "### sentences\n",
    "sent=[  'the glass of milk',\n",
    "     'the glass of juice',\n",
    "     'the cup of tea',\n",
    "    'I am a good boy',\n",
    "     'I am a good developer',\n",
    "     'understand the meaning of words',\n",
    "     'your videos are good',]"
   ]
  },
  {
   "cell_type": "code",
   "execution_count": 4,
   "id": "d5b0d1cd",
   "metadata": {
    "execution": {
     "iopub.execute_input": "2022-03-20T11:25:23.803350Z",
     "iopub.status.busy": "2022-03-20T11:25:23.802676Z",
     "iopub.status.idle": "2022-03-20T11:25:23.806007Z",
     "shell.execute_reply": "2022-03-20T11:25:23.806527Z",
     "shell.execute_reply.started": "2022-03-20T10:53:33.741162Z"
    },
    "papermill": {
     "duration": 0.027074,
     "end_time": "2022-03-20T11:25:23.806704",
     "exception": false,
     "start_time": "2022-03-20T11:25:23.779630",
     "status": "completed"
    },
    "tags": []
   },
   "outputs": [
    {
     "data": {
      "text/plain": [
       "['the glass of milk',\n",
       " 'the glass of juice',\n",
       " 'the cup of tea',\n",
       " 'I am a good boy',\n",
       " 'I am a good developer',\n",
       " 'understand the meaning of words',\n",
       " 'your videos are good']"
      ]
     },
     "execution_count": 4,
     "metadata": {},
     "output_type": "execute_result"
    }
   ],
   "source": [
    "sent"
   ]
  },
  {
   "cell_type": "code",
   "execution_count": 5,
   "id": "8fa29948",
   "metadata": {
    "execution": {
     "iopub.execute_input": "2022-03-20T11:25:23.844678Z",
     "iopub.status.busy": "2022-03-20T11:25:23.844003Z",
     "iopub.status.idle": "2022-03-20T11:25:23.846661Z",
     "shell.execute_reply": "2022-03-20T11:25:23.847102Z",
     "shell.execute_reply.started": "2022-03-20T10:54:29.872269Z"
    },
    "papermill": {
     "duration": 0.023577,
     "end_time": "2022-03-20T11:25:23.847268",
     "exception": false,
     "start_time": "2022-03-20T11:25:23.823691",
     "status": "completed"
    },
    "tags": []
   },
   "outputs": [],
   "source": [
    "# Vocubulary Size \n",
    "voc_size=10000"
   ]
  },
  {
   "cell_type": "code",
   "execution_count": 6,
   "id": "79eb1d00",
   "metadata": {
    "execution": {
     "iopub.execute_input": "2022-03-20T11:25:23.883835Z",
     "iopub.status.busy": "2022-03-20T11:25:23.883163Z",
     "iopub.status.idle": "2022-03-20T11:25:23.889597Z",
     "shell.execute_reply": "2022-03-20T11:25:23.888532Z",
     "shell.execute_reply.started": "2022-03-20T10:57:18.837852Z"
    },
    "papermill": {
     "duration": 0.026035,
     "end_time": "2022-03-20T11:25:23.889861",
     "exception": false,
     "start_time": "2022-03-20T11:25:23.863826",
     "status": "completed"
    },
    "tags": []
   },
   "outputs": [
    {
     "name": "stdout",
     "output_type": "stream",
     "text": [
      "[[9819, 9352, 9665, 5348], [9819, 9352, 9665, 4164], [9819, 5405, 9665, 3282], [742, 3933, 8818, 1886, 354], [742, 3933, 8818, 1886, 7592], [876, 9819, 8090, 9665, 5427], [8880, 9162, 567, 1886]]\n"
     ]
    }
   ],
   "source": [
    "# One Hot Representation\n",
    "one_hot_repr = [one_hot(words, voc_size) for words in sent]\n",
    "print(one_hot_repr)"
   ]
  },
  {
   "cell_type": "code",
   "execution_count": 7,
   "id": "500f8a09",
   "metadata": {
    "execution": {
     "iopub.execute_input": "2022-03-20T11:25:23.928403Z",
     "iopub.status.busy": "2022-03-20T11:25:23.927800Z",
     "iopub.status.idle": "2022-03-20T11:25:23.932788Z",
     "shell.execute_reply": "2022-03-20T11:25:23.933341Z",
     "shell.execute_reply.started": "2022-03-20T11:02:45.133303Z"
    },
    "papermill": {
     "duration": 0.02526,
     "end_time": "2022-03-20T11:25:23.933522",
     "exception": false,
     "start_time": "2022-03-20T11:25:23.908262",
     "status": "completed"
    },
    "tags": []
   },
   "outputs": [],
   "source": [
    "from tensorflow.keras.layers import Embedding\n",
    "from tensorflow.keras.preprocessing.sequence import pad_sequences\n",
    "from tensorflow.keras.models import Sequential"
   ]
  },
  {
   "cell_type": "code",
   "execution_count": 8,
   "id": "42015d04",
   "metadata": {
    "execution": {
     "iopub.execute_input": "2022-03-20T11:25:23.970699Z",
     "iopub.status.busy": "2022-03-20T11:25:23.970049Z",
     "iopub.status.idle": "2022-03-20T11:25:23.976466Z",
     "shell.execute_reply": "2022-03-20T11:25:23.977006Z",
     "shell.execute_reply.started": "2022-03-20T11:13:11.103053Z"
    },
    "papermill": {
     "duration": 0.026624,
     "end_time": "2022-03-20T11:25:23.977178",
     "exception": false,
     "start_time": "2022-03-20T11:25:23.950554",
     "status": "completed"
    },
    "tags": []
   },
   "outputs": [
    {
     "name": "stdout",
     "output_type": "stream",
     "text": [
      "[[   0    0    0    0 9819 9352 9665 5348]\n",
      " [   0    0    0    0 9819 9352 9665 4164]\n",
      " [   0    0    0    0 9819 5405 9665 3282]\n",
      " [   0    0    0  742 3933 8818 1886  354]\n",
      " [   0    0    0  742 3933 8818 1886 7592]\n",
      " [   0    0    0  876 9819 8090 9665 5427]\n",
      " [   0    0    0    0 8880 9162  567 1886]]\n"
     ]
    }
   ],
   "source": [
    "sent_length = 8\n",
    "embedded_docs = pad_sequences(one_hot_repr, padding='pre', maxlen=sent_length)\n",
    "print(embedded_docs)"
   ]
  },
  {
   "cell_type": "code",
   "execution_count": 9,
   "id": "c4e4ddf2",
   "metadata": {
    "execution": {
     "iopub.execute_input": "2022-03-20T11:25:24.015200Z",
     "iopub.status.busy": "2022-03-20T11:25:24.014575Z",
     "iopub.status.idle": "2022-03-20T11:25:24.017556Z",
     "shell.execute_reply": "2022-03-20T11:25:24.018074Z",
     "shell.execute_reply.started": "2022-03-20T11:13:54.957930Z"
    },
    "papermill": {
     "duration": 0.023589,
     "end_time": "2022-03-20T11:25:24.018234",
     "exception": false,
     "start_time": "2022-03-20T11:25:23.994645",
     "status": "completed"
    },
    "tags": []
   },
   "outputs": [],
   "source": [
    "#  dim is features how many features you want\n",
    "dim = 10"
   ]
  },
  {
   "cell_type": "code",
   "execution_count": 10,
   "id": "1e4b4b2f",
   "metadata": {
    "execution": {
     "iopub.execute_input": "2022-03-20T11:25:24.058706Z",
     "iopub.status.busy": "2022-03-20T11:25:24.058012Z",
     "iopub.status.idle": "2022-03-20T11:25:24.160881Z",
     "shell.execute_reply": "2022-03-20T11:25:24.161341Z",
     "shell.execute_reply.started": "2022-03-20T11:16:13.059569Z"
    },
    "papermill": {
     "duration": 0.125899,
     "end_time": "2022-03-20T11:25:24.161556",
     "exception": false,
     "start_time": "2022-03-20T11:25:24.035657",
     "status": "completed"
    },
    "tags": []
   },
   "outputs": [
    {
     "name": "stderr",
     "output_type": "stream",
     "text": [
      "2022-03-20 11:25:24.089592: I tensorflow/core/common_runtime/process_util.cc:146] Creating new thread pool with default inter op setting: 2. Tune using inter_op_parallelism_threads for best performance.\n"
     ]
    }
   ],
   "source": [
    "model = Sequential()\n",
    "model.add(Embedding(voc_size, 10, input_length= sent_length))\n",
    "model.compile('adam', 'mse')"
   ]
  },
  {
   "cell_type": "code",
   "execution_count": 11,
   "id": "92678a4c",
   "metadata": {
    "execution": {
     "iopub.execute_input": "2022-03-20T11:25:24.204943Z",
     "iopub.status.busy": "2022-03-20T11:25:24.203902Z",
     "iopub.status.idle": "2022-03-20T11:25:24.209308Z",
     "shell.execute_reply": "2022-03-20T11:25:24.209804Z",
     "shell.execute_reply.started": "2022-03-20T11:16:44.428038Z"
    },
    "papermill": {
     "duration": 0.030575,
     "end_time": "2022-03-20T11:25:24.210003",
     "exception": false,
     "start_time": "2022-03-20T11:25:24.179428",
     "status": "completed"
    },
    "tags": []
   },
   "outputs": [
    {
     "name": "stdout",
     "output_type": "stream",
     "text": [
      "Model: \"sequential\"\n",
      "_________________________________________________________________\n",
      "Layer (type)                 Output Shape              Param #   \n",
      "=================================================================\n",
      "embedding (Embedding)        (None, 8, 10)             100000    \n",
      "=================================================================\n",
      "Total params: 100,000\n",
      "Trainable params: 100,000\n",
      "Non-trainable params: 0\n",
      "_________________________________________________________________\n"
     ]
    }
   ],
   "source": [
    "model.summary()"
   ]
  },
  {
   "cell_type": "code",
   "execution_count": 12,
   "id": "752ceee1",
   "metadata": {
    "execution": {
     "iopub.execute_input": "2022-03-20T11:25:24.249559Z",
     "iopub.status.busy": "2022-03-20T11:25:24.248882Z",
     "iopub.status.idle": "2022-03-20T11:25:24.477650Z",
     "shell.execute_reply": "2022-03-20T11:25:24.478168Z",
     "shell.execute_reply.started": "2022-03-20T11:18:00.509648Z"
    },
    "papermill": {
     "duration": 0.250129,
     "end_time": "2022-03-20T11:25:24.478339",
     "exception": false,
     "start_time": "2022-03-20T11:25:24.228210",
     "status": "completed"
    },
    "tags": []
   },
   "outputs": [
    {
     "name": "stdout",
     "output_type": "stream",
     "text": [
      "[[[-2.3863209e-02  1.3696123e-02  3.6329851e-03 -9.9780075e-03\n",
      "    3.7971210e-02 -8.2596764e-03 -2.0149006e-02 -4.5981970e-02\n",
      "    3.2174516e-02  1.8855844e-02]\n",
      "  [-2.3863209e-02  1.3696123e-02  3.6329851e-03 -9.9780075e-03\n",
      "    3.7971210e-02 -8.2596764e-03 -2.0149006e-02 -4.5981970e-02\n",
      "    3.2174516e-02  1.8855844e-02]\n",
      "  [-2.3863209e-02  1.3696123e-02  3.6329851e-03 -9.9780075e-03\n",
      "    3.7971210e-02 -8.2596764e-03 -2.0149006e-02 -4.5981970e-02\n",
      "    3.2174516e-02  1.8855844e-02]\n",
      "  [-2.3863209e-02  1.3696123e-02  3.6329851e-03 -9.9780075e-03\n",
      "    3.7971210e-02 -8.2596764e-03 -2.0149006e-02 -4.5981970e-02\n",
      "    3.2174516e-02  1.8855844e-02]\n",
      "  [-4.7376044e-03  3.7641432e-02 -2.5686814e-02  3.0117657e-02\n",
      "   -2.2092057e-02 -3.8116731e-02 -3.5958003e-02 -3.2760516e-02\n",
      "   -4.9271356e-02  3.4584548e-02]\n",
      "  [-2.9389059e-02 -3.0965209e-03  3.2413866e-02 -4.5937516e-02\n",
      "    1.9609775e-02  4.0157761e-02  2.3216009e-04  4.1465942e-02\n",
      "   -2.2555197e-02 -4.5378577e-02]\n",
      "  [-2.3392260e-02  1.3969291e-02 -3.7197508e-02 -3.0123485e-02\n",
      "   -1.9520475e-02  1.6695570e-02  8.3655231e-03  3.4008566e-02\n",
      "   -3.7943434e-02 -3.3616412e-02]\n",
      "  [ 3.5607841e-02  4.2744879e-02 -2.0358671e-02 -4.7424920e-03\n",
      "   -4.7662735e-02  2.7681161e-02  2.3286078e-02 -2.5128901e-02\n",
      "    1.0846842e-02  2.6604366e-02]]\n",
      "\n",
      " [[-2.3863209e-02  1.3696123e-02  3.6329851e-03 -9.9780075e-03\n",
      "    3.7971210e-02 -8.2596764e-03 -2.0149006e-02 -4.5981970e-02\n",
      "    3.2174516e-02  1.8855844e-02]\n",
      "  [-2.3863209e-02  1.3696123e-02  3.6329851e-03 -9.9780075e-03\n",
      "    3.7971210e-02 -8.2596764e-03 -2.0149006e-02 -4.5981970e-02\n",
      "    3.2174516e-02  1.8855844e-02]\n",
      "  [-2.3863209e-02  1.3696123e-02  3.6329851e-03 -9.9780075e-03\n",
      "    3.7971210e-02 -8.2596764e-03 -2.0149006e-02 -4.5981970e-02\n",
      "    3.2174516e-02  1.8855844e-02]\n",
      "  [-2.3863209e-02  1.3696123e-02  3.6329851e-03 -9.9780075e-03\n",
      "    3.7971210e-02 -8.2596764e-03 -2.0149006e-02 -4.5981970e-02\n",
      "    3.2174516e-02  1.8855844e-02]\n",
      "  [-4.7376044e-03  3.7641432e-02 -2.5686814e-02  3.0117657e-02\n",
      "   -2.2092057e-02 -3.8116731e-02 -3.5958003e-02 -3.2760516e-02\n",
      "   -4.9271356e-02  3.4584548e-02]\n",
      "  [-2.9389059e-02 -3.0965209e-03  3.2413866e-02 -4.5937516e-02\n",
      "    1.9609775e-02  4.0157761e-02  2.3216009e-04  4.1465942e-02\n",
      "   -2.2555197e-02 -4.5378577e-02]\n",
      "  [-2.3392260e-02  1.3969291e-02 -3.7197508e-02 -3.0123485e-02\n",
      "   -1.9520475e-02  1.6695570e-02  8.3655231e-03  3.4008566e-02\n",
      "   -3.7943434e-02 -3.3616412e-02]\n",
      "  [-1.1782251e-02 -3.7547398e-02  3.8654450e-02 -2.3034429e-02\n",
      "   -4.5024801e-02  7.4138045e-03  2.0988058e-02 -3.8205646e-02\n",
      "   -5.8082938e-03  4.8534121e-02]]\n",
      "\n",
      " [[-2.3863209e-02  1.3696123e-02  3.6329851e-03 -9.9780075e-03\n",
      "    3.7971210e-02 -8.2596764e-03 -2.0149006e-02 -4.5981970e-02\n",
      "    3.2174516e-02  1.8855844e-02]\n",
      "  [-2.3863209e-02  1.3696123e-02  3.6329851e-03 -9.9780075e-03\n",
      "    3.7971210e-02 -8.2596764e-03 -2.0149006e-02 -4.5981970e-02\n",
      "    3.2174516e-02  1.8855844e-02]\n",
      "  [-2.3863209e-02  1.3696123e-02  3.6329851e-03 -9.9780075e-03\n",
      "    3.7971210e-02 -8.2596764e-03 -2.0149006e-02 -4.5981970e-02\n",
      "    3.2174516e-02  1.8855844e-02]\n",
      "  [-2.3863209e-02  1.3696123e-02  3.6329851e-03 -9.9780075e-03\n",
      "    3.7971210e-02 -8.2596764e-03 -2.0149006e-02 -4.5981970e-02\n",
      "    3.2174516e-02  1.8855844e-02]\n",
      "  [-4.7376044e-03  3.7641432e-02 -2.5686814e-02  3.0117657e-02\n",
      "   -2.2092057e-02 -3.8116731e-02 -3.5958003e-02 -3.2760516e-02\n",
      "   -4.9271356e-02  3.4584548e-02]\n",
      "  [ 2.5243167e-02  3.4879673e-02 -1.1251666e-02  3.9577734e-02\n",
      "    3.6461126e-02 -1.7101541e-03  1.0514010e-02  4.0699612e-02\n",
      "   -4.8522390e-02  1.6303662e-02]\n",
      "  [-2.3392260e-02  1.3969291e-02 -3.7197508e-02 -3.0123485e-02\n",
      "   -1.9520475e-02  1.6695570e-02  8.3655231e-03  3.4008566e-02\n",
      "   -3.7943434e-02 -3.3616412e-02]\n",
      "  [-4.4349503e-02  2.0270053e-02 -3.6916841e-02 -3.9156191e-03\n",
      "   -1.8242706e-02  6.7705289e-03 -2.1973737e-03 -3.7825488e-02\n",
      "   -1.6292453e-02  5.0409921e-03]]\n",
      "\n",
      " [[-2.3863209e-02  1.3696123e-02  3.6329851e-03 -9.9780075e-03\n",
      "    3.7971210e-02 -8.2596764e-03 -2.0149006e-02 -4.5981970e-02\n",
      "    3.2174516e-02  1.8855844e-02]\n",
      "  [-2.3863209e-02  1.3696123e-02  3.6329851e-03 -9.9780075e-03\n",
      "    3.7971210e-02 -8.2596764e-03 -2.0149006e-02 -4.5981970e-02\n",
      "    3.2174516e-02  1.8855844e-02]\n",
      "  [-2.3863209e-02  1.3696123e-02  3.6329851e-03 -9.9780075e-03\n",
      "    3.7971210e-02 -8.2596764e-03 -2.0149006e-02 -4.5981970e-02\n",
      "    3.2174516e-02  1.8855844e-02]\n",
      "  [-4.2953443e-02 -2.9753102e-02 -2.0632053e-02  4.0757243e-02\n",
      "    3.5062682e-02 -4.6194568e-03  9.3847737e-03 -2.7401447e-03\n",
      "    9.1778859e-03  4.8741151e-02]\n",
      "  [ 9.1468170e-04 -3.4743369e-02  3.5597730e-02  8.9481473e-03\n",
      "   -3.3110157e-03 -5.6765974e-05 -2.8031159e-02  3.4172308e-02\n",
      "   -1.0524966e-02  3.3597182e-02]\n",
      "  [-3.5485052e-02  3.8673531e-02  3.8863752e-02 -1.4579713e-02\n",
      "   -2.1625698e-02  2.9464748e-02  3.6445115e-02 -2.6906360e-02\n",
      "    3.4689043e-02  1.7898742e-02]\n",
      "  [-1.8720128e-02  7.2409399e-03  4.6951208e-02 -2.7690459e-02\n",
      "   -3.0958414e-02  2.8485443e-02  2.2571411e-02 -2.2275139e-02\n",
      "   -1.7487299e-02  2.1303449e-02]\n",
      "  [-1.2398660e-02  1.9466508e-02 -4.5665026e-02  5.1157959e-03\n",
      "   -1.6394019e-02  3.4727398e-02  4.2812396e-02 -4.9675524e-02\n",
      "   -1.7321408e-02 -4.5296561e-02]]\n",
      "\n",
      " [[-2.3863209e-02  1.3696123e-02  3.6329851e-03 -9.9780075e-03\n",
      "    3.7971210e-02 -8.2596764e-03 -2.0149006e-02 -4.5981970e-02\n",
      "    3.2174516e-02  1.8855844e-02]\n",
      "  [-2.3863209e-02  1.3696123e-02  3.6329851e-03 -9.9780075e-03\n",
      "    3.7971210e-02 -8.2596764e-03 -2.0149006e-02 -4.5981970e-02\n",
      "    3.2174516e-02  1.8855844e-02]\n",
      "  [-2.3863209e-02  1.3696123e-02  3.6329851e-03 -9.9780075e-03\n",
      "    3.7971210e-02 -8.2596764e-03 -2.0149006e-02 -4.5981970e-02\n",
      "    3.2174516e-02  1.8855844e-02]\n",
      "  [-4.2953443e-02 -2.9753102e-02 -2.0632053e-02  4.0757243e-02\n",
      "    3.5062682e-02 -4.6194568e-03  9.3847737e-03 -2.7401447e-03\n",
      "    9.1778859e-03  4.8741151e-02]\n",
      "  [ 9.1468170e-04 -3.4743369e-02  3.5597730e-02  8.9481473e-03\n",
      "   -3.3110157e-03 -5.6765974e-05 -2.8031159e-02  3.4172308e-02\n",
      "   -1.0524966e-02  3.3597182e-02]\n",
      "  [-3.5485052e-02  3.8673531e-02  3.8863752e-02 -1.4579713e-02\n",
      "   -2.1625698e-02  2.9464748e-02  3.6445115e-02 -2.6906360e-02\n",
      "    3.4689043e-02  1.7898742e-02]\n",
      "  [-1.8720128e-02  7.2409399e-03  4.6951208e-02 -2.7690459e-02\n",
      "   -3.0958414e-02  2.8485443e-02  2.2571411e-02 -2.2275139e-02\n",
      "   -1.7487299e-02  2.1303449e-02]\n",
      "  [ 8.2779638e-03 -2.7357228e-03 -1.4043607e-02  3.3594895e-02\n",
      "    2.9913452e-02  1.8155668e-02  4.8744801e-02  2.0710398e-02\n",
      "    3.5165478e-02  8.9575760e-03]]\n",
      "\n",
      " [[-2.3863209e-02  1.3696123e-02  3.6329851e-03 -9.9780075e-03\n",
      "    3.7971210e-02 -8.2596764e-03 -2.0149006e-02 -4.5981970e-02\n",
      "    3.2174516e-02  1.8855844e-02]\n",
      "  [-2.3863209e-02  1.3696123e-02  3.6329851e-03 -9.9780075e-03\n",
      "    3.7971210e-02 -8.2596764e-03 -2.0149006e-02 -4.5981970e-02\n",
      "    3.2174516e-02  1.8855844e-02]\n",
      "  [-2.3863209e-02  1.3696123e-02  3.6329851e-03 -9.9780075e-03\n",
      "    3.7971210e-02 -8.2596764e-03 -2.0149006e-02 -4.5981970e-02\n",
      "    3.2174516e-02  1.8855844e-02]\n",
      "  [-8.3446018e-03  1.5548144e-02 -6.6230074e-03 -3.1608760e-02\n",
      "   -3.4119476e-02 -3.6067128e-02 -3.8019706e-02 -5.9190281e-03\n",
      "    1.8849645e-02 -3.9492775e-02]\n",
      "  [-4.7376044e-03  3.7641432e-02 -2.5686814e-02  3.0117657e-02\n",
      "   -2.2092057e-02 -3.8116731e-02 -3.5958003e-02 -3.2760516e-02\n",
      "   -4.9271356e-02  3.4584548e-02]\n",
      "  [ 4.6571206e-02 -2.8223896e-02 -4.7355738e-02  3.4783412e-02\n",
      "   -3.3856191e-02  4.9409512e-02 -4.3913316e-02  2.8111491e-02\n",
      "    4.4633638e-02  5.9711933e-04]\n",
      "  [-2.3392260e-02  1.3969291e-02 -3.7197508e-02 -3.0123485e-02\n",
      "   -1.9520475e-02  1.6695570e-02  8.3655231e-03  3.4008566e-02\n",
      "   -3.7943434e-02 -3.3616412e-02]\n",
      "  [-5.3950176e-03 -2.2341693e-02 -3.2921389e-02 -4.2061556e-02\n",
      "   -4.0898718e-02  1.7187003e-02  7.8752525e-03  2.0284045e-02\n",
      "    1.4640462e-02 -9.2723966e-03]]\n",
      "\n",
      " [[-2.3863209e-02  1.3696123e-02  3.6329851e-03 -9.9780075e-03\n",
      "    3.7971210e-02 -8.2596764e-03 -2.0149006e-02 -4.5981970e-02\n",
      "    3.2174516e-02  1.8855844e-02]\n",
      "  [-2.3863209e-02  1.3696123e-02  3.6329851e-03 -9.9780075e-03\n",
      "    3.7971210e-02 -8.2596764e-03 -2.0149006e-02 -4.5981970e-02\n",
      "    3.2174516e-02  1.8855844e-02]\n",
      "  [-2.3863209e-02  1.3696123e-02  3.6329851e-03 -9.9780075e-03\n",
      "    3.7971210e-02 -8.2596764e-03 -2.0149006e-02 -4.5981970e-02\n",
      "    3.2174516e-02  1.8855844e-02]\n",
      "  [-2.3863209e-02  1.3696123e-02  3.6329851e-03 -9.9780075e-03\n",
      "    3.7971210e-02 -8.2596764e-03 -2.0149006e-02 -4.5981970e-02\n",
      "    3.2174516e-02  1.8855844e-02]\n",
      "  [-2.9791249e-02 -4.7402073e-02  1.4591444e-02 -2.3689641e-02\n",
      "   -7.4327700e-03 -1.8803811e-02 -4.8517074e-02 -1.2782086e-02\n",
      "   -2.3824859e-02 -6.7968145e-03]\n",
      "  [-3.0406464e-02  4.0183548e-02 -4.1166842e-02  1.1676826e-02\n",
      "    2.6671801e-02  6.0367212e-03 -2.9883815e-02  2.7517442e-02\n",
      "   -3.3390976e-02  4.8412051e-02]\n",
      "  [ 8.1747286e-03  4.7765326e-02 -1.6383052e-02  1.8093910e-02\n",
      "    4.0957816e-03 -7.0090070e-03  4.5090247e-02 -1.2040377e-02\n",
      "   -2.1384669e-02  2.9479954e-02]\n",
      "  [-1.8720128e-02  7.2409399e-03  4.6951208e-02 -2.7690459e-02\n",
      "   -3.0958414e-02  2.8485443e-02  2.2571411e-02 -2.2275139e-02\n",
      "   -1.7487299e-02  2.1303449e-02]]]\n"
     ]
    },
    {
     "name": "stderr",
     "output_type": "stream",
     "text": [
      "2022-03-20 11:25:24.323378: I tensorflow/compiler/mlir/mlir_graph_optimization_pass.cc:185] None of the MLIR Optimization Passes are enabled (registered 2)\n"
     ]
    }
   ],
   "source": [
    "print(model.predict(embedded_docs))"
   ]
  },
  {
   "cell_type": "code",
   "execution_count": 13,
   "id": "b2114db2",
   "metadata": {
    "execution": {
     "iopub.execute_input": "2022-03-20T11:25:24.520096Z",
     "iopub.status.busy": "2022-03-20T11:25:24.519357Z",
     "iopub.status.idle": "2022-03-20T11:25:24.523995Z",
     "shell.execute_reply": "2022-03-20T11:25:24.524519Z",
     "shell.execute_reply.started": "2022-03-20T11:20:47.968707Z"
    },
    "papermill": {
     "duration": 0.026964,
     "end_time": "2022-03-20T11:25:24.524683",
     "exception": false,
     "start_time": "2022-03-20T11:25:24.497719",
     "status": "completed"
    },
    "tags": []
   },
   "outputs": [
    {
     "data": {
      "text/plain": [
       "array([   0,    0,    0,    0, 9819, 9352, 9665, 5348], dtype=int32)"
      ]
     },
     "execution_count": 13,
     "metadata": {},
     "output_type": "execute_result"
    }
   ],
   "source": [
    "embedded_docs[0]"
   ]
  },
  {
   "cell_type": "code",
   "execution_count": 14,
   "id": "792963f8",
   "metadata": {
    "execution": {
     "iopub.execute_input": "2022-03-20T11:25:24.567724Z",
     "iopub.status.busy": "2022-03-20T11:25:24.566747Z",
     "iopub.status.idle": "2022-03-20T11:25:24.652022Z",
     "shell.execute_reply": "2022-03-20T11:25:24.652735Z",
     "shell.execute_reply.started": "2022-03-20T11:21:19.514318Z"
    },
    "papermill": {
     "duration": 0.108768,
     "end_time": "2022-03-20T11:25:24.652969",
     "exception": false,
     "start_time": "2022-03-20T11:25:24.544201",
     "status": "completed"
    },
    "tags": []
   },
   "outputs": [
    {
     "name": "stdout",
     "output_type": "stream",
     "text": [
      "[[[-0.02386321  0.01369612  0.00363299 -0.00997801  0.03797121\n",
      "   -0.00825968 -0.02014901 -0.04598197  0.03217452  0.01885584]]\n",
      "\n",
      " [[-0.02386321  0.01369612  0.00363299 -0.00997801  0.03797121\n",
      "   -0.00825968 -0.02014901 -0.04598197  0.03217452  0.01885584]]\n",
      "\n",
      " [[-0.02386321  0.01369612  0.00363299 -0.00997801  0.03797121\n",
      "   -0.00825968 -0.02014901 -0.04598197  0.03217452  0.01885584]]\n",
      "\n",
      " [[-0.02386321  0.01369612  0.00363299 -0.00997801  0.03797121\n",
      "   -0.00825968 -0.02014901 -0.04598197  0.03217452  0.01885584]]\n",
      "\n",
      " [[-0.0047376   0.03764143 -0.02568681  0.03011766 -0.02209206\n",
      "   -0.03811673 -0.035958   -0.03276052 -0.04927136  0.03458455]]\n",
      "\n",
      " [[-0.02938906 -0.00309652  0.03241387 -0.04593752  0.01960978\n",
      "    0.04015776  0.00023216  0.04146594 -0.0225552  -0.04537858]]\n",
      "\n",
      " [[-0.02339226  0.01396929 -0.03719751 -0.03012349 -0.01952047\n",
      "    0.01669557  0.00836552  0.03400857 -0.03794343 -0.03361641]]\n",
      "\n",
      " [[ 0.03560784  0.04274488 -0.02035867 -0.00474249 -0.04766273\n",
      "    0.02768116  0.02328608 -0.0251289   0.01084684  0.02660437]]]\n"
     ]
    }
   ],
   "source": [
    "print(model.predict(embedded_docs[0]))"
   ]
  }
 ],
 "metadata": {
  "kernelspec": {
   "display_name": "Python 3",
   "language": "python",
   "name": "python3"
  },
  "language_info": {
   "codemirror_mode": {
    "name": "ipython",
    "version": 3
   },
   "file_extension": ".py",
   "mimetype": "text/x-python",
   "name": "python",
   "nbconvert_exporter": "python",
   "pygments_lexer": "ipython3",
   "version": "3.7.12"
  },
  "papermill": {
   "default_parameters": {},
   "duration": 19.52061,
   "end_time": "2022-03-20T11:25:27.570188",
   "environment_variables": {},
   "exception": null,
   "input_path": "__notebook__.ipynb",
   "output_path": "__notebook__.ipynb",
   "parameters": {},
   "start_time": "2022-03-20T11:25:08.049578",
   "version": "2.3.3"
  }
 },
 "nbformat": 4,
 "nbformat_minor": 5
}
